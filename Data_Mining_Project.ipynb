{
  "nbformat": 4,
  "nbformat_minor": 0,
  "metadata": {
    "colab": {
      "name": "Data_Mining_Project.ipynb",
      "provenance": [],
      "toc_visible": true,
      "mount_file_id": "1uMJMF1t2H3ru6V3b0GrAw5GlGrJg5TTH",
      "authorship_tag": "ABX9TyNtmenZdgnDf4zGzg84Vd6W",
      "include_colab_link": true
    },
    "kernelspec": {
      "name": "python3",
      "display_name": "Python 3"
    },
    "language_info": {
      "name": "python"
    }
  },
  "cells": [
    {
      "cell_type": "markdown",
      "metadata": {
        "id": "view-in-github",
        "colab_type": "text"
      },
      "source": [
        "<a href=\"https://colab.research.google.com/github/ZoghbiWissal/Deposit-detection-bank-marketing-database/blob/main/Data_Mining_Project.ipynb\" target=\"_parent\"><img src=\"https://colab.research.google.com/assets/colab-badge.svg\" alt=\"Open In Colab\"/></a>"
      ]
    },
    {
      "cell_type": "markdown",
      "source": [
        "\n",
        "## **Imbalanced Bank_marketing database**\n",
        "\n"
      ],
      "metadata": {
        "id": "_2U4GNdcEpp3"
      }
    },
    {
      "cell_type": "code",
      "execution_count": null,
      "metadata": {
        "id": "JR-Up1eGQ03u"
      },
      "outputs": [],
      "source": [
        "import pandas as pd\n",
        "import numpy as np\n",
        "\n",
        "from tensorflow.keras.utils import to_categorical\n",
        "from keras.models import Sequential\n",
        "from keras.layers import Dense\n",
        "from keras.layers import Dropout\n",
        "#from keras.utils import to_categorical\n",
        "from keras.layers import Dropout\n",
        "from keras.backend import sigmoid\n",
        "from keras.callbacks import EarlyStopping\n",
        "\n",
        "import matplotlib.pyplot as plt\n",
        "import seaborn as sns\n",
        "\n",
        "from imblearn.over_sampling import SMOTE\n",
        "\n",
        "from sklearn import metrics\n",
        "from sklearn.model_selection import train_test_split\n",
        "from sklearn.preprocessing import LabelEncoder\n",
        "from sklearn.preprocessing import StandardScaler\n",
        "from sklearn.linear_model import LogisticRegression\n",
        "from sklearn.svm import SVC\n",
        "from sklearn.neighbors import KNeighborsClassifier\n",
        "from sklearn.ensemble import RandomForestClassifier, GradientBoostingClassifier, AdaBoostClassifier\n",
        "from sklearn.metrics import plot_confusion_matrix,classification_report,plot_precision_recall_curve,plot_roc_curve"
      ]
    },
    {
      "cell_type": "code",
      "source": [
        "data = pd.read_csv('/content/drive/MyDrive/python/Projet data_mining/bank-additional-full.csv', sep =';')"
      ],
      "metadata": {
        "id": "F7aP1dVCaEJE"
      },
      "execution_count": null,
      "outputs": []
    },
    {
      "cell_type": "code",
      "source": [
        "data.shape\n",
        "#data.head()"
      ],
      "metadata": {
        "colab": {
          "base_uri": "https://localhost:8080/"
        },
        "id": "0VKpCf4kaWzX",
        "outputId": "65b1a5d5-5b26-4c73-9969-42c6b0437f8c"
      },
      "execution_count": null,
      "outputs": [
        {
          "output_type": "execute_result",
          "data": {
            "text/plain": [
              "(41188, 21)"
            ]
          },
          "metadata": {},
          "execution_count": 3
        }
      ]
    },
    {
      "cell_type": "code",
      "source": [
        "data.dtypes"
      ],
      "metadata": {
        "colab": {
          "base_uri": "https://localhost:8080/"
        },
        "id": "MkQ-KXgqRt4_",
        "outputId": "299cd9ed-93fe-47f4-a1a4-ed6659dadc1a"
      },
      "execution_count": null,
      "outputs": [
        {
          "output_type": "execute_result",
          "data": {
            "text/plain": [
              "age                 int64\n",
              "job                object\n",
              "marital            object\n",
              "education          object\n",
              "default            object\n",
              "housing            object\n",
              "loan               object\n",
              "contact            object\n",
              "month              object\n",
              "day_of_week        object\n",
              "duration            int64\n",
              "campaign            int64\n",
              "pdays               int64\n",
              "previous            int64\n",
              "poutcome           object\n",
              "emp.var.rate      float64\n",
              "cons.price.idx    float64\n",
              "cons.conf.idx     float64\n",
              "euribor3m         float64\n",
              "nr.employed       float64\n",
              "y                  object\n",
              "dtype: object"
            ]
          },
          "metadata": {},
          "execution_count": 4
        }
      ]
    },
    {
      "cell_type": "code",
      "source": [
        "data.info"
      ],
      "metadata": {
        "colab": {
          "base_uri": "https://localhost:8080/"
        },
        "id": "zmS1S00XRwka",
        "outputId": "739f687e-04c2-4baa-b5ea-34f9c6bea827"
      },
      "execution_count": null,
      "outputs": [
        {
          "output_type": "execute_result",
          "data": {
            "text/plain": [
              "<bound method DataFrame.info of        age          job  marital  ... euribor3m nr.employed    y\n",
              "0       56    housemaid  married  ...     4.857      5191.0   no\n",
              "1       57     services  married  ...     4.857      5191.0   no\n",
              "2       37     services  married  ...     4.857      5191.0   no\n",
              "3       40       admin.  married  ...     4.857      5191.0   no\n",
              "4       56     services  married  ...     4.857      5191.0   no\n",
              "...    ...          ...      ...  ...       ...         ...  ...\n",
              "41183   73      retired  married  ...     1.028      4963.6  yes\n",
              "41184   46  blue-collar  married  ...     1.028      4963.6   no\n",
              "41185   56      retired  married  ...     1.028      4963.6   no\n",
              "41186   44   technician  married  ...     1.028      4963.6  yes\n",
              "41187   74      retired  married  ...     1.028      4963.6   no\n",
              "\n",
              "[41188 rows x 21 columns]>"
            ]
          },
          "metadata": {},
          "execution_count": 5
        }
      ]
    },
    {
      "cell_type": "code",
      "source": [
        "data.describe()"
      ],
      "metadata": {
        "colab": {
          "base_uri": "https://localhost:8080/",
          "height": 300
        },
        "id": "nqy5-PYxR2MG",
        "outputId": "5c8a4558-928e-4695-a88f-14b92131ff19"
      },
      "execution_count": null,
      "outputs": [
        {
          "output_type": "execute_result",
          "data": {
            "text/html": [
              "<div>\n",
              "<style scoped>\n",
              "    .dataframe tbody tr th:only-of-type {\n",
              "        vertical-align: middle;\n",
              "    }\n",
              "\n",
              "    .dataframe tbody tr th {\n",
              "        vertical-align: top;\n",
              "    }\n",
              "\n",
              "    .dataframe thead th {\n",
              "        text-align: right;\n",
              "    }\n",
              "</style>\n",
              "<table border=\"1\" class=\"dataframe\">\n",
              "  <thead>\n",
              "    <tr style=\"text-align: right;\">\n",
              "      <th></th>\n",
              "      <th>age</th>\n",
              "      <th>duration</th>\n",
              "      <th>campaign</th>\n",
              "      <th>pdays</th>\n",
              "      <th>previous</th>\n",
              "      <th>emp.var.rate</th>\n",
              "      <th>cons.price.idx</th>\n",
              "      <th>cons.conf.idx</th>\n",
              "      <th>euribor3m</th>\n",
              "      <th>nr.employed</th>\n",
              "    </tr>\n",
              "  </thead>\n",
              "  <tbody>\n",
              "    <tr>\n",
              "      <th>count</th>\n",
              "      <td>41188.00000</td>\n",
              "      <td>41188.000000</td>\n",
              "      <td>41188.000000</td>\n",
              "      <td>41188.000000</td>\n",
              "      <td>41188.000000</td>\n",
              "      <td>41188.000000</td>\n",
              "      <td>41188.000000</td>\n",
              "      <td>41188.000000</td>\n",
              "      <td>41188.000000</td>\n",
              "      <td>41188.000000</td>\n",
              "    </tr>\n",
              "    <tr>\n",
              "      <th>mean</th>\n",
              "      <td>40.02406</td>\n",
              "      <td>258.285010</td>\n",
              "      <td>2.567593</td>\n",
              "      <td>962.475454</td>\n",
              "      <td>0.172963</td>\n",
              "      <td>0.081886</td>\n",
              "      <td>93.575664</td>\n",
              "      <td>-40.502600</td>\n",
              "      <td>3.621291</td>\n",
              "      <td>5167.035911</td>\n",
              "    </tr>\n",
              "    <tr>\n",
              "      <th>std</th>\n",
              "      <td>10.42125</td>\n",
              "      <td>259.279249</td>\n",
              "      <td>2.770014</td>\n",
              "      <td>186.910907</td>\n",
              "      <td>0.494901</td>\n",
              "      <td>1.570960</td>\n",
              "      <td>0.578840</td>\n",
              "      <td>4.628198</td>\n",
              "      <td>1.734447</td>\n",
              "      <td>72.251528</td>\n",
              "    </tr>\n",
              "    <tr>\n",
              "      <th>min</th>\n",
              "      <td>17.00000</td>\n",
              "      <td>0.000000</td>\n",
              "      <td>1.000000</td>\n",
              "      <td>0.000000</td>\n",
              "      <td>0.000000</td>\n",
              "      <td>-3.400000</td>\n",
              "      <td>92.201000</td>\n",
              "      <td>-50.800000</td>\n",
              "      <td>0.634000</td>\n",
              "      <td>4963.600000</td>\n",
              "    </tr>\n",
              "    <tr>\n",
              "      <th>25%</th>\n",
              "      <td>32.00000</td>\n",
              "      <td>102.000000</td>\n",
              "      <td>1.000000</td>\n",
              "      <td>999.000000</td>\n",
              "      <td>0.000000</td>\n",
              "      <td>-1.800000</td>\n",
              "      <td>93.075000</td>\n",
              "      <td>-42.700000</td>\n",
              "      <td>1.344000</td>\n",
              "      <td>5099.100000</td>\n",
              "    </tr>\n",
              "    <tr>\n",
              "      <th>50%</th>\n",
              "      <td>38.00000</td>\n",
              "      <td>180.000000</td>\n",
              "      <td>2.000000</td>\n",
              "      <td>999.000000</td>\n",
              "      <td>0.000000</td>\n",
              "      <td>1.100000</td>\n",
              "      <td>93.749000</td>\n",
              "      <td>-41.800000</td>\n",
              "      <td>4.857000</td>\n",
              "      <td>5191.000000</td>\n",
              "    </tr>\n",
              "    <tr>\n",
              "      <th>75%</th>\n",
              "      <td>47.00000</td>\n",
              "      <td>319.000000</td>\n",
              "      <td>3.000000</td>\n",
              "      <td>999.000000</td>\n",
              "      <td>0.000000</td>\n",
              "      <td>1.400000</td>\n",
              "      <td>93.994000</td>\n",
              "      <td>-36.400000</td>\n",
              "      <td>4.961000</td>\n",
              "      <td>5228.100000</td>\n",
              "    </tr>\n",
              "    <tr>\n",
              "      <th>max</th>\n",
              "      <td>98.00000</td>\n",
              "      <td>4918.000000</td>\n",
              "      <td>56.000000</td>\n",
              "      <td>999.000000</td>\n",
              "      <td>7.000000</td>\n",
              "      <td>1.400000</td>\n",
              "      <td>94.767000</td>\n",
              "      <td>-26.900000</td>\n",
              "      <td>5.045000</td>\n",
              "      <td>5228.100000</td>\n",
              "    </tr>\n",
              "  </tbody>\n",
              "</table>\n",
              "</div>"
            ],
            "text/plain": [
              "               age      duration  ...     euribor3m   nr.employed\n",
              "count  41188.00000  41188.000000  ...  41188.000000  41188.000000\n",
              "mean      40.02406    258.285010  ...      3.621291   5167.035911\n",
              "std       10.42125    259.279249  ...      1.734447     72.251528\n",
              "min       17.00000      0.000000  ...      0.634000   4963.600000\n",
              "25%       32.00000    102.000000  ...      1.344000   5099.100000\n",
              "50%       38.00000    180.000000  ...      4.857000   5191.000000\n",
              "75%       47.00000    319.000000  ...      4.961000   5228.100000\n",
              "max       98.00000   4918.000000  ...      5.045000   5228.100000\n",
              "\n",
              "[8 rows x 10 columns]"
            ]
          },
          "metadata": {},
          "execution_count": 6
        }
      ]
    },
    {
      "cell_type": "markdown",
      "source": [
        "**Utilisation de la fonction MultiColumnLabelEncoder sur les variables explicatives .**"
      ],
      "metadata": {
        "id": "41z559nMCFPb"
      }
    },
    {
      "cell_type": "code",
      "source": [
        "\n",
        "class MultiColumnLabelEncoder:\n",
        "    def __init__(self,columns = None):\n",
        "        self.columns = columns # array of column names to encode\n",
        "\n",
        "    def fit(self,X,y=None):\n",
        "        return self # not relevant here\n",
        "\n",
        "    def transform(self,X):\n",
        "        '''\n",
        "        Transforms columns of X specified in self.columns using\n",
        "        LabelEncoder(). If no columns specified, transforms all\n",
        "        columns in X.\n",
        "        '''\n",
        "        output = X.copy()\n",
        "        if self.columns is not None:\n",
        "            for col in self.columns:\n",
        "                output[col] = LabelEncoder().fit_transform(output[col])\n",
        "        else:\n",
        "            for colname,col in output.iteritems():\n",
        "                output[colname] = LabelEncoder().fit_transform(col)\n",
        "        return output\n",
        "\n",
        "    def fit_transform(self,X,y=None):\n",
        "        return self.fit(X,y).transform(X)"
      ],
      "metadata": {
        "id": "bqU_8m8lafpj"
      },
      "execution_count": null,
      "outputs": []
    },
    {
      "cell_type": "code",
      "source": [
        "data = MultiColumnLabelEncoder(columns = ['job','marital','education', 'default','housing','loan','contact','month','poutcome','y']).fit_transform(data)"
      ],
      "metadata": {
        "id": "wv67irjptcpQ"
      },
      "execution_count": null,
      "outputs": []
    },
    {
      "cell_type": "code",
      "source": [
        "df = data"
      ],
      "metadata": {
        "id": "KOJIT7R7R_mx"
      },
      "execution_count": null,
      "outputs": []
    },
    {
      "cell_type": "code",
      "source": [
        "df"
      ],
      "metadata": {
        "colab": {
          "base_uri": "https://localhost:8080/",
          "height": 444
        },
        "id": "TX4cS83HSB-Q",
        "outputId": "6e198c15-c7c9-4307-c698-6158c36e4aa6"
      },
      "execution_count": null,
      "outputs": [
        {
          "output_type": "execute_result",
          "data": {
            "text/html": [
              "<div>\n",
              "<style scoped>\n",
              "    .dataframe tbody tr th:only-of-type {\n",
              "        vertical-align: middle;\n",
              "    }\n",
              "\n",
              "    .dataframe tbody tr th {\n",
              "        vertical-align: top;\n",
              "    }\n",
              "\n",
              "    .dataframe thead th {\n",
              "        text-align: right;\n",
              "    }\n",
              "</style>\n",
              "<table border=\"1\" class=\"dataframe\">\n",
              "  <thead>\n",
              "    <tr style=\"text-align: right;\">\n",
              "      <th></th>\n",
              "      <th>age</th>\n",
              "      <th>job</th>\n",
              "      <th>marital</th>\n",
              "      <th>education</th>\n",
              "      <th>default</th>\n",
              "      <th>housing</th>\n",
              "      <th>loan</th>\n",
              "      <th>contact</th>\n",
              "      <th>month</th>\n",
              "      <th>day_of_week</th>\n",
              "      <th>duration</th>\n",
              "      <th>campaign</th>\n",
              "      <th>pdays</th>\n",
              "      <th>previous</th>\n",
              "      <th>poutcome</th>\n",
              "      <th>emp.var.rate</th>\n",
              "      <th>cons.price.idx</th>\n",
              "      <th>cons.conf.idx</th>\n",
              "      <th>euribor3m</th>\n",
              "      <th>nr.employed</th>\n",
              "      <th>y</th>\n",
              "    </tr>\n",
              "  </thead>\n",
              "  <tbody>\n",
              "    <tr>\n",
              "      <th>0</th>\n",
              "      <td>56</td>\n",
              "      <td>3</td>\n",
              "      <td>1</td>\n",
              "      <td>0</td>\n",
              "      <td>0</td>\n",
              "      <td>0</td>\n",
              "      <td>0</td>\n",
              "      <td>1</td>\n",
              "      <td>6</td>\n",
              "      <td>mon</td>\n",
              "      <td>261</td>\n",
              "      <td>1</td>\n",
              "      <td>999</td>\n",
              "      <td>0</td>\n",
              "      <td>1</td>\n",
              "      <td>1.1</td>\n",
              "      <td>93.994</td>\n",
              "      <td>-36.4</td>\n",
              "      <td>4.857</td>\n",
              "      <td>5191.0</td>\n",
              "      <td>0</td>\n",
              "    </tr>\n",
              "    <tr>\n",
              "      <th>1</th>\n",
              "      <td>57</td>\n",
              "      <td>7</td>\n",
              "      <td>1</td>\n",
              "      <td>3</td>\n",
              "      <td>1</td>\n",
              "      <td>0</td>\n",
              "      <td>0</td>\n",
              "      <td>1</td>\n",
              "      <td>6</td>\n",
              "      <td>mon</td>\n",
              "      <td>149</td>\n",
              "      <td>1</td>\n",
              "      <td>999</td>\n",
              "      <td>0</td>\n",
              "      <td>1</td>\n",
              "      <td>1.1</td>\n",
              "      <td>93.994</td>\n",
              "      <td>-36.4</td>\n",
              "      <td>4.857</td>\n",
              "      <td>5191.0</td>\n",
              "      <td>0</td>\n",
              "    </tr>\n",
              "    <tr>\n",
              "      <th>2</th>\n",
              "      <td>37</td>\n",
              "      <td>7</td>\n",
              "      <td>1</td>\n",
              "      <td>3</td>\n",
              "      <td>0</td>\n",
              "      <td>2</td>\n",
              "      <td>0</td>\n",
              "      <td>1</td>\n",
              "      <td>6</td>\n",
              "      <td>mon</td>\n",
              "      <td>226</td>\n",
              "      <td>1</td>\n",
              "      <td>999</td>\n",
              "      <td>0</td>\n",
              "      <td>1</td>\n",
              "      <td>1.1</td>\n",
              "      <td>93.994</td>\n",
              "      <td>-36.4</td>\n",
              "      <td>4.857</td>\n",
              "      <td>5191.0</td>\n",
              "      <td>0</td>\n",
              "    </tr>\n",
              "    <tr>\n",
              "      <th>3</th>\n",
              "      <td>40</td>\n",
              "      <td>0</td>\n",
              "      <td>1</td>\n",
              "      <td>1</td>\n",
              "      <td>0</td>\n",
              "      <td>0</td>\n",
              "      <td>0</td>\n",
              "      <td>1</td>\n",
              "      <td>6</td>\n",
              "      <td>mon</td>\n",
              "      <td>151</td>\n",
              "      <td>1</td>\n",
              "      <td>999</td>\n",
              "      <td>0</td>\n",
              "      <td>1</td>\n",
              "      <td>1.1</td>\n",
              "      <td>93.994</td>\n",
              "      <td>-36.4</td>\n",
              "      <td>4.857</td>\n",
              "      <td>5191.0</td>\n",
              "      <td>0</td>\n",
              "    </tr>\n",
              "    <tr>\n",
              "      <th>4</th>\n",
              "      <td>56</td>\n",
              "      <td>7</td>\n",
              "      <td>1</td>\n",
              "      <td>3</td>\n",
              "      <td>0</td>\n",
              "      <td>0</td>\n",
              "      <td>2</td>\n",
              "      <td>1</td>\n",
              "      <td>6</td>\n",
              "      <td>mon</td>\n",
              "      <td>307</td>\n",
              "      <td>1</td>\n",
              "      <td>999</td>\n",
              "      <td>0</td>\n",
              "      <td>1</td>\n",
              "      <td>1.1</td>\n",
              "      <td>93.994</td>\n",
              "      <td>-36.4</td>\n",
              "      <td>4.857</td>\n",
              "      <td>5191.0</td>\n",
              "      <td>0</td>\n",
              "    </tr>\n",
              "    <tr>\n",
              "      <th>...</th>\n",
              "      <td>...</td>\n",
              "      <td>...</td>\n",
              "      <td>...</td>\n",
              "      <td>...</td>\n",
              "      <td>...</td>\n",
              "      <td>...</td>\n",
              "      <td>...</td>\n",
              "      <td>...</td>\n",
              "      <td>...</td>\n",
              "      <td>...</td>\n",
              "      <td>...</td>\n",
              "      <td>...</td>\n",
              "      <td>...</td>\n",
              "      <td>...</td>\n",
              "      <td>...</td>\n",
              "      <td>...</td>\n",
              "      <td>...</td>\n",
              "      <td>...</td>\n",
              "      <td>...</td>\n",
              "      <td>...</td>\n",
              "      <td>...</td>\n",
              "    </tr>\n",
              "    <tr>\n",
              "      <th>41183</th>\n",
              "      <td>73</td>\n",
              "      <td>5</td>\n",
              "      <td>1</td>\n",
              "      <td>5</td>\n",
              "      <td>0</td>\n",
              "      <td>2</td>\n",
              "      <td>0</td>\n",
              "      <td>0</td>\n",
              "      <td>7</td>\n",
              "      <td>fri</td>\n",
              "      <td>334</td>\n",
              "      <td>1</td>\n",
              "      <td>999</td>\n",
              "      <td>0</td>\n",
              "      <td>1</td>\n",
              "      <td>-1.1</td>\n",
              "      <td>94.767</td>\n",
              "      <td>-50.8</td>\n",
              "      <td>1.028</td>\n",
              "      <td>4963.6</td>\n",
              "      <td>1</td>\n",
              "    </tr>\n",
              "    <tr>\n",
              "      <th>41184</th>\n",
              "      <td>46</td>\n",
              "      <td>1</td>\n",
              "      <td>1</td>\n",
              "      <td>5</td>\n",
              "      <td>0</td>\n",
              "      <td>0</td>\n",
              "      <td>0</td>\n",
              "      <td>0</td>\n",
              "      <td>7</td>\n",
              "      <td>fri</td>\n",
              "      <td>383</td>\n",
              "      <td>1</td>\n",
              "      <td>999</td>\n",
              "      <td>0</td>\n",
              "      <td>1</td>\n",
              "      <td>-1.1</td>\n",
              "      <td>94.767</td>\n",
              "      <td>-50.8</td>\n",
              "      <td>1.028</td>\n",
              "      <td>4963.6</td>\n",
              "      <td>0</td>\n",
              "    </tr>\n",
              "    <tr>\n",
              "      <th>41185</th>\n",
              "      <td>56</td>\n",
              "      <td>5</td>\n",
              "      <td>1</td>\n",
              "      <td>6</td>\n",
              "      <td>0</td>\n",
              "      <td>2</td>\n",
              "      <td>0</td>\n",
              "      <td>0</td>\n",
              "      <td>7</td>\n",
              "      <td>fri</td>\n",
              "      <td>189</td>\n",
              "      <td>2</td>\n",
              "      <td>999</td>\n",
              "      <td>0</td>\n",
              "      <td>1</td>\n",
              "      <td>-1.1</td>\n",
              "      <td>94.767</td>\n",
              "      <td>-50.8</td>\n",
              "      <td>1.028</td>\n",
              "      <td>4963.6</td>\n",
              "      <td>0</td>\n",
              "    </tr>\n",
              "    <tr>\n",
              "      <th>41186</th>\n",
              "      <td>44</td>\n",
              "      <td>9</td>\n",
              "      <td>1</td>\n",
              "      <td>5</td>\n",
              "      <td>0</td>\n",
              "      <td>0</td>\n",
              "      <td>0</td>\n",
              "      <td>0</td>\n",
              "      <td>7</td>\n",
              "      <td>fri</td>\n",
              "      <td>442</td>\n",
              "      <td>1</td>\n",
              "      <td>999</td>\n",
              "      <td>0</td>\n",
              "      <td>1</td>\n",
              "      <td>-1.1</td>\n",
              "      <td>94.767</td>\n",
              "      <td>-50.8</td>\n",
              "      <td>1.028</td>\n",
              "      <td>4963.6</td>\n",
              "      <td>1</td>\n",
              "    </tr>\n",
              "    <tr>\n",
              "      <th>41187</th>\n",
              "      <td>74</td>\n",
              "      <td>5</td>\n",
              "      <td>1</td>\n",
              "      <td>5</td>\n",
              "      <td>0</td>\n",
              "      <td>2</td>\n",
              "      <td>0</td>\n",
              "      <td>0</td>\n",
              "      <td>7</td>\n",
              "      <td>fri</td>\n",
              "      <td>239</td>\n",
              "      <td>3</td>\n",
              "      <td>999</td>\n",
              "      <td>1</td>\n",
              "      <td>0</td>\n",
              "      <td>-1.1</td>\n",
              "      <td>94.767</td>\n",
              "      <td>-50.8</td>\n",
              "      <td>1.028</td>\n",
              "      <td>4963.6</td>\n",
              "      <td>0</td>\n",
              "    </tr>\n",
              "  </tbody>\n",
              "</table>\n",
              "<p>41188 rows × 21 columns</p>\n",
              "</div>"
            ],
            "text/plain": [
              "       age  job  marital  education  ...  cons.conf.idx  euribor3m  nr.employed  y\n",
              "0       56    3        1          0  ...          -36.4      4.857       5191.0  0\n",
              "1       57    7        1          3  ...          -36.4      4.857       5191.0  0\n",
              "2       37    7        1          3  ...          -36.4      4.857       5191.0  0\n",
              "3       40    0        1          1  ...          -36.4      4.857       5191.0  0\n",
              "4       56    7        1          3  ...          -36.4      4.857       5191.0  0\n",
              "...    ...  ...      ...        ...  ...            ...        ...          ... ..\n",
              "41183   73    5        1          5  ...          -50.8      1.028       4963.6  1\n",
              "41184   46    1        1          5  ...          -50.8      1.028       4963.6  0\n",
              "41185   56    5        1          6  ...          -50.8      1.028       4963.6  0\n",
              "41186   44    9        1          5  ...          -50.8      1.028       4963.6  1\n",
              "41187   74    5        1          5  ...          -50.8      1.028       4963.6  0\n",
              "\n",
              "[41188 rows x 21 columns]"
            ]
          },
          "metadata": {},
          "execution_count": 10
        }
      ]
    },
    {
      "cell_type": "code",
      "source": [
        "## features\n",
        "X = df.drop(['y', 'day_of_week', 'emp.var.rate','cons.price.idx','cons.conf.idx', 'euribor3m','nr.employed'], axis=1)\n",
        "print(X)"
      ],
      "metadata": {
        "colab": {
          "base_uri": "https://localhost:8080/"
        },
        "id": "0m_XzKwnSRhh",
        "outputId": "9e07f557-4ba2-4e2e-9761-2d087695c0ca"
      },
      "execution_count": null,
      "outputs": [
        {
          "output_type": "stream",
          "name": "stdout",
          "text": [
            "       age  job  marital  education  ...  campaign  pdays  previous  poutcome\n",
            "0       56    3        1          0  ...         1    999         0         1\n",
            "1       57    7        1          3  ...         1    999         0         1\n",
            "2       37    7        1          3  ...         1    999         0         1\n",
            "3       40    0        1          1  ...         1    999         0         1\n",
            "4       56    7        1          3  ...         1    999         0         1\n",
            "...    ...  ...      ...        ...  ...       ...    ...       ...       ...\n",
            "41183   73    5        1          5  ...         1    999         0         1\n",
            "41184   46    1        1          5  ...         1    999         0         1\n",
            "41185   56    5        1          6  ...         2    999         0         1\n",
            "41186   44    9        1          5  ...         1    999         0         1\n",
            "41187   74    5        1          5  ...         3    999         1         0\n",
            "\n",
            "[41188 rows x 14 columns]\n"
          ]
        }
      ]
    },
    {
      "cell_type": "code",
      "source": [
        "Y = data['y']\n",
        "Y"
      ],
      "metadata": {
        "colab": {
          "base_uri": "https://localhost:8080/"
        },
        "id": "8kEkB5o7SVGB",
        "outputId": "ca5acbe5-013a-44c2-826d-cb9bae66c5c7"
      },
      "execution_count": null,
      "outputs": [
        {
          "output_type": "execute_result",
          "data": {
            "text/plain": [
              "0        0\n",
              "1        0\n",
              "2        0\n",
              "3        0\n",
              "4        0\n",
              "        ..\n",
              "41183    1\n",
              "41184    0\n",
              "41185    0\n",
              "41186    1\n",
              "41187    0\n",
              "Name: y, Length: 41188, dtype: int64"
            ]
          },
          "metadata": {},
          "execution_count": 12
        }
      ]
    },
    {
      "cell_type": "code",
      "source": [
        "print(df[\"y\"].value_counts())"
      ],
      "metadata": {
        "colab": {
          "base_uri": "https://localhost:8080/"
        },
        "id": "TxmKmrVtWdsN",
        "outputId": "3097d55d-f2a9-446c-ed9b-2c69a22ff0fb"
      },
      "execution_count": null,
      "outputs": [
        {
          "output_type": "stream",
          "name": "stdout",
          "text": [
            "0    36548\n",
            "1     4640\n",
            "Name: y, dtype: int64\n"
          ]
        }
      ]
    },
    {
      "cell_type": "code",
      "source": [
        "ax = sns.countplot(x = df['y'])  #Imbalanced dataset\n",
        "plt.show()"
      ],
      "metadata": {
        "colab": {
          "base_uri": "https://localhost:8080/",
          "height": 279
        },
        "id": "_IkfeVhmSha2",
        "outputId": "37cf1f87-8f60-4635-bba2-005444142e29"
      },
      "execution_count": null,
      "outputs": [
        {
          "output_type": "display_data",
          "data": {
            "image/png": "[encoded data removed]",
            "text/plain": [
              "<Figure size 432x288 with 1 Axes>"
            ]
          },
          "metadata": {
            "needs_background": "light"
          }
        }
      ]
    },
    {
      "cell_type": "markdown",
      "source": [
        "**Implémentation des modèles avec la base dsequilibré**\n",
        "\n",
        "\n",
        "\n"
      ],
      "metadata": {
        "id": "0LzQ3GD9Csng"
      }
    },
    {
      "cell_type": "code",
      "source": [
        "X_train, X_test, y_train, y_test = train_test_split(X, Y, test_size = 0.3, random_state = 0)\n",
        "columns = X_train.columns"
      ],
      "metadata": {
        "id": "k1VDvSKF46Pq"
      },
      "execution_count": null,
      "outputs": []
    },
    {
      "cell_type": "markdown",
      "source": [
        "\n",
        "\n",
        "*   Modèle simple de reseau de neurone avec une seule couche\n",
        "\n",
        "\n"
      ],
      "metadata": {
        "id": "VSEGvFtZDMrd"
      }
    },
    {
      "cell_type": "code",
      "source": [
        "model1 = Sequential([\n",
        "                    Dense(64, activation = 'relu', input_shape = (14,)),\n",
        "                    Dropout(0.5),\n",
        "                    Dense(1, activation = 'sigmoid')\n",
        "                   ])\n",
        "model1.summary()"
      ],
      "metadata": {
        "colab": {
          "base_uri": "https://localhost:8080/"
        },
        "id": "YTq8MXDa47nf",
        "outputId": "64d157c6-6b4d-4a1b-bf00-1c96f5c59dda"
      },
      "execution_count": null,
      "outputs": [
        {
          "output_type": "stream",
          "name": "stdout",
          "text": [
            "Model: \"sequential\"\n",
            "_________________________________________________________________\n",
            " Layer (type)                Output Shape              Param #   \n",
            "=================================================================\n",
            " dense (Dense)               (None, 64)                960       \n",
            "                                                                 \n",
            " dropout (Dropout)           (None, 64)                0         \n",
            "                                                                 \n",
            " dense_1 (Dense)             (None, 1)                 65        \n",
            "                                                                 \n",
            "=================================================================\n",
            "Total params: 1,025\n",
            "Trainable params: 1,025\n",
            "Non-trainable params: 0\n",
            "_________________________________________________________________\n"
          ]
        }
      ]
    },
    {
      "cell_type": "code",
      "source": [
        "model1.compile(loss = 'binary_crossentropy', optimizer = 'adam', metrics = [\"accuracy\"])\n",
        "history = model1.fit(X_train, y_train, validation_data = (X_test, y_test), epochs = 100)"
      ],
      "metadata": {
        "colab": {
          "base_uri": "https://localhost:8080/"
        },
        "id": "EbUKAuqn4_xa",
        "outputId": "afb06519-0df2-41b0-f52e-f9f4844038c3"
      },
      "execution_count": null,
      "outputs": [
        {
          "output_type": "stream",
          "name": "stdout",
          "text": [
            "Epoch 1/100\n",
            "1599/1599 [==============================] - 5s 3ms/step - loss: 5.7731 - accuracy: 0.7109 - val_loss: 0.4787 - val_accuracy: 0.7633\n",
            "Epoch 2/100\n",
            "1599/1599 [==============================] - 4s 2ms/step - loss: 0.5104 - accuracy: 0.7580 - val_loss: 0.4499 - val_accuracy: 0.7874\n",
            "Epoch 3/100\n",
            "1599/1599 [==============================] - 4s 2ms/step - loss: 0.4733 - accuracy: 0.7815 - val_loss: 0.4237 - val_accuracy: 0.8032\n",
            "Epoch 4/100\n",
            "1599/1599 [==============================] - 4s 2ms/step - loss: 0.4421 - accuracy: 0.8004 - val_loss: 0.4077 - val_accuracy: 0.8133\n",
            "Epoch 5/100\n",
            "1599/1599 [==============================] - 4s 2ms/step - loss: 0.4322 - accuracy: 0.8049 - val_loss: 0.3951 - val_accuracy: 0.8237\n",
            "Epoch 6/100\n",
            "1599/1599 [==============================] - 4s 3ms/step - loss: 0.4163 - accuracy: 0.8127 - val_loss: 0.3799 - val_accuracy: 0.8352\n",
            "Epoch 7/100\n",
            "1599/1599 [==============================] - 4s 3ms/step - loss: 0.4024 - accuracy: 0.8225 - val_loss: 0.3604 - val_accuracy: 0.8458\n",
            "Epoch 8/100\n",
            "1599/1599 [==============================] - 5s 3ms/step - loss: 0.3973 - accuracy: 0.8259 - val_loss: 0.3618 - val_accuracy: 0.8402\n",
            "Epoch 9/100\n",
            "1599/1599 [==============================] - 4s 3ms/step - loss: 0.3897 - accuracy: 0.8283 - val_loss: 0.3590 - val_accuracy: 0.8450\n",
            "Epoch 10/100\n",
            "1599/1599 [==============================] - 4s 2ms/step - loss: 0.3921 - accuracy: 0.8260 - val_loss: 0.3468 - val_accuracy: 0.8501\n",
            "Epoch 11/100\n",
            "1599/1599 [==============================] - 4s 2ms/step - loss: 0.3854 - accuracy: 0.8297 - val_loss: 0.3509 - val_accuracy: 0.8419\n",
            "Epoch 12/100\n",
            "1599/1599 [==============================] - 4s 2ms/step - loss: 0.3836 - accuracy: 0.8302 - val_loss: 0.3483 - val_accuracy: 0.8478\n",
            "Epoch 13/100\n",
            "1599/1599 [==============================] - 4s 3ms/step - loss: 0.3816 - accuracy: 0.8323 - val_loss: 0.3490 - val_accuracy: 0.8459\n",
            "Epoch 14/100\n",
            "1599/1599 [==============================] - 4s 2ms/step - loss: 0.3823 - accuracy: 0.8298 - val_loss: 0.3465 - val_accuracy: 0.8460\n",
            "Epoch 15/100\n",
            "1599/1599 [==============================] - 4s 2ms/step - loss: 0.3801 - accuracy: 0.8321 - val_loss: 0.3428 - val_accuracy: 0.8491\n",
            "Epoch 16/100\n",
            "1599/1599 [==============================] - 4s 3ms/step - loss: 0.3740 - accuracy: 0.8356 - val_loss: 0.3447 - val_accuracy: 0.8481\n",
            "Epoch 17/100\n",
            "1599/1599 [==============================] - 4s 3ms/step - loss: 0.3799 - accuracy: 0.8317 - val_loss: 0.3480 - val_accuracy: 0.8524\n",
            "Epoch 18/100\n",
            "1599/1599 [==============================] - 4s 3ms/step - loss: 0.3792 - accuracy: 0.8317 - val_loss: 0.3475 - val_accuracy: 0.8461\n",
            "Epoch 19/100\n",
            "1599/1599 [==============================] - 4s 2ms/step - loss: 0.3713 - accuracy: 0.8365 - val_loss: 0.3584 - val_accuracy: 0.8333\n",
            "Epoch 20/100\n",
            "1599/1599 [==============================] - 3s 2ms/step - loss: 0.3734 - accuracy: 0.8350 - val_loss: 0.3337 - val_accuracy: 0.8562\n",
            "Epoch 21/100\n",
            "1599/1599 [==============================] - 4s 3ms/step - loss: 0.3756 - accuracy: 0.8330 - val_loss: 0.3406 - val_accuracy: 0.8502\n",
            "Epoch 22/100\n",
            "1599/1599 [==============================] - 4s 3ms/step - loss: 0.3743 - accuracy: 0.8333 - val_loss: 0.3441 - val_accuracy: 0.8456\n",
            "Epoch 23/100\n",
            "1599/1599 [==============================] - 4s 2ms/step - loss: 0.3724 - accuracy: 0.8357 - val_loss: 0.3503 - val_accuracy: 0.8453\n",
            "Epoch 24/100\n",
            "1599/1599 [==============================] - 3s 2ms/step - loss: 0.3712 - accuracy: 0.8364 - val_loss: 0.3383 - val_accuracy: 0.8496\n",
            "Epoch 25/100\n",
            "1599/1599 [==============================] - 3s 2ms/step - loss: 0.3715 - accuracy: 0.8354 - val_loss: 0.3418 - val_accuracy: 0.8464\n",
            "Epoch 26/100\n",
            "1599/1599 [==============================] - 3s 2ms/step - loss: 0.3714 - accuracy: 0.8354 - val_loss: 0.3349 - val_accuracy: 0.8514\n",
            "Epoch 27/100\n",
            "1599/1599 [==============================] - 4s 2ms/step - loss: 0.3741 - accuracy: 0.8355 - val_loss: 0.3467 - val_accuracy: 0.8410\n",
            "Epoch 28/100\n",
            "1599/1599 [==============================] - 4s 3ms/step - loss: 0.3694 - accuracy: 0.8371 - val_loss: 0.3376 - val_accuracy: 0.8541\n",
            "Epoch 29/100\n",
            "1599/1599 [==============================] - 4s 3ms/step - loss: 0.3703 - accuracy: 0.8372 - val_loss: 0.3481 - val_accuracy: 0.8489\n",
            "Epoch 30/100\n",
            "1599/1599 [==============================] - 3s 2ms/step - loss: 0.3696 - accuracy: 0.8358 - val_loss: 0.3401 - val_accuracy: 0.8531\n",
            "Epoch 31/100\n",
            "1599/1599 [==============================] - 4s 3ms/step - loss: 0.3701 - accuracy: 0.8365 - val_loss: 0.3343 - val_accuracy: 0.8489\n",
            "Epoch 32/100\n",
            "1599/1599 [==============================] - 4s 2ms/step - loss: 0.3694 - accuracy: 0.8370 - val_loss: 0.3350 - val_accuracy: 0.8522\n",
            "Epoch 33/100\n",
            "1599/1599 [==============================] - 4s 3ms/step - loss: 0.3685 - accuracy: 0.8371 - val_loss: 0.3487 - val_accuracy: 0.8444\n",
            "Epoch 34/100\n",
            "1599/1599 [==============================] - 4s 3ms/step - loss: 0.3669 - accuracy: 0.8379 - val_loss: 0.3410 - val_accuracy: 0.8528\n",
            "Epoch 35/100\n",
            "1599/1599 [==============================] - 4s 2ms/step - loss: 0.3685 - accuracy: 0.8367 - val_loss: 0.3331 - val_accuracy: 0.8501\n",
            "Epoch 36/100\n",
            "1599/1599 [==============================] - 3s 2ms/step - loss: 0.3686 - accuracy: 0.8364 - val_loss: 0.3372 - val_accuracy: 0.8509\n",
            "Epoch 37/100\n",
            "1599/1599 [==============================] - 4s 3ms/step - loss: 0.3701 - accuracy: 0.8380 - val_loss: 0.3246 - val_accuracy: 0.8564\n",
            "Epoch 38/100\n",
            "1599/1599 [==============================] - 4s 2ms/step - loss: 0.3661 - accuracy: 0.8374 - val_loss: 0.3371 - val_accuracy: 0.8469\n",
            "Epoch 39/100\n",
            "1599/1599 [==============================] - 4s 3ms/step - loss: 0.3651 - accuracy: 0.8388 - val_loss: 0.3382 - val_accuracy: 0.8482\n",
            "Epoch 40/100\n",
            "1599/1599 [==============================] - 3s 2ms/step - loss: 0.3696 - accuracy: 0.8376 - val_loss: 0.3296 - val_accuracy: 0.8566\n",
            "Epoch 41/100\n",
            "1599/1599 [==============================] - 4s 3ms/step - loss: 0.3672 - accuracy: 0.8376 - val_loss: 0.3278 - val_accuracy: 0.8535\n",
            "Epoch 42/100\n",
            "1599/1599 [==============================] - 3s 2ms/step - loss: 0.3710 - accuracy: 0.8358 - val_loss: 0.3445 - val_accuracy: 0.8508\n",
            "Epoch 43/100\n",
            "1599/1599 [==============================] - 4s 3ms/step - loss: 0.3708 - accuracy: 0.8367 - val_loss: 0.3487 - val_accuracy: 0.8424\n",
            "Epoch 44/100\n",
            "1599/1599 [==============================] - 4s 2ms/step - loss: 0.3673 - accuracy: 0.8386 - val_loss: 0.3301 - val_accuracy: 0.8567\n",
            "Epoch 45/100\n",
            "1599/1599 [==============================] - 4s 3ms/step - loss: 0.3706 - accuracy: 0.8365 - val_loss: 0.3305 - val_accuracy: 0.8561\n",
            "Epoch 46/100\n",
            "1599/1599 [==============================] - 4s 3ms/step - loss: 0.3678 - accuracy: 0.8374 - val_loss: 0.3411 - val_accuracy: 0.8506\n",
            "Epoch 47/100\n",
            "1599/1599 [==============================] - 4s 3ms/step - loss: 0.3672 - accuracy: 0.8385 - val_loss: 0.3314 - val_accuracy: 0.8543\n",
            "Epoch 48/100\n",
            "1599/1599 [==============================] - 4s 3ms/step - loss: 0.3669 - accuracy: 0.8374 - val_loss: 0.3325 - val_accuracy: 0.8522\n",
            "Epoch 49/100\n",
            "1599/1599 [==============================] - 4s 3ms/step - loss: 0.3689 - accuracy: 0.8370 - val_loss: 0.3469 - val_accuracy: 0.8483\n",
            "Epoch 50/100\n",
            "1599/1599 [==============================] - 4s 3ms/step - loss: 0.3681 - accuracy: 0.8377 - val_loss: 0.3406 - val_accuracy: 0.8508\n",
            "Epoch 51/100\n",
            "1599/1599 [==============================] - 4s 2ms/step - loss: 0.3684 - accuracy: 0.8348 - val_loss: 0.3471 - val_accuracy: 0.8468\n",
            "Epoch 52/100\n",
            "1599/1599 [==============================] - 4s 3ms/step - loss: 0.3678 - accuracy: 0.8374 - val_loss: 0.3338 - val_accuracy: 0.8517\n",
            "Epoch 53/100\n",
            "1599/1599 [==============================] - 4s 2ms/step - loss: 0.3659 - accuracy: 0.8375 - val_loss: 0.3307 - val_accuracy: 0.8543\n",
            "Epoch 54/100\n",
            "1599/1599 [==============================] - 4s 2ms/step - loss: 0.3647 - accuracy: 0.8397 - val_loss: 0.3285 - val_accuracy: 0.8512\n",
            "Epoch 55/100\n",
            "1599/1599 [==============================] - 4s 3ms/step - loss: 0.3648 - accuracy: 0.8384 - val_loss: 0.3356 - val_accuracy: 0.8445\n",
            "Epoch 56/100\n",
            "1599/1599 [==============================] - 4s 3ms/step - loss: 0.3655 - accuracy: 0.8389 - val_loss: 0.3306 - val_accuracy: 0.8476\n",
            "Epoch 57/100\n",
            "1599/1599 [==============================] - 4s 3ms/step - loss: 0.3668 - accuracy: 0.8371 - val_loss: 0.3356 - val_accuracy: 0.8512\n",
            "Epoch 58/100\n",
            "1599/1599 [==============================] - 4s 2ms/step - loss: 0.3740 - accuracy: 0.8337 - val_loss: 0.3422 - val_accuracy: 0.8500\n",
            "Epoch 59/100\n",
            "1599/1599 [==============================] - 4s 3ms/step - loss: 0.3715 - accuracy: 0.8352 - val_loss: 0.3557 - val_accuracy: 0.8488\n",
            "Epoch 60/100\n",
            "1599/1599 [==============================] - 3s 2ms/step - loss: 0.3707 - accuracy: 0.8358 - val_loss: 0.3411 - val_accuracy: 0.8485\n",
            "Epoch 61/100\n",
            "1599/1599 [==============================] - 4s 2ms/step - loss: 0.3720 - accuracy: 0.8354 - val_loss: 0.3426 - val_accuracy: 0.8450\n",
            "Epoch 62/100\n",
            "1599/1599 [==============================] - 4s 3ms/step - loss: 0.3715 - accuracy: 0.8344 - val_loss: 0.3351 - val_accuracy: 0.8509\n",
            "Epoch 63/100\n",
            "1599/1599 [==============================] - 4s 2ms/step - loss: 0.3721 - accuracy: 0.8349 - val_loss: 0.3645 - val_accuracy: 0.8418\n",
            "Epoch 64/100\n",
            "1599/1599 [==============================] - 3s 2ms/step - loss: 0.3720 - accuracy: 0.8347 - val_loss: 0.3399 - val_accuracy: 0.8490\n",
            "Epoch 65/100\n",
            "1599/1599 [==============================] - 4s 3ms/step - loss: 0.3713 - accuracy: 0.8358 - val_loss: 0.3414 - val_accuracy: 0.8494\n",
            "Epoch 66/100\n",
            "1599/1599 [==============================] - 4s 2ms/step - loss: 0.3682 - accuracy: 0.8367 - val_loss: 0.3423 - val_accuracy: 0.8499\n",
            "Epoch 67/100\n",
            "1599/1599 [==============================] - 4s 2ms/step - loss: 0.3664 - accuracy: 0.8360 - val_loss: 0.3404 - val_accuracy: 0.8489\n",
            "Epoch 68/100\n",
            "1599/1599 [==============================] - 4s 3ms/step - loss: 0.3692 - accuracy: 0.8365 - val_loss: 0.3297 - val_accuracy: 0.8531\n",
            "Epoch 69/100\n",
            "1599/1599 [==============================] - 3s 2ms/step - loss: 0.3684 - accuracy: 0.8359 - val_loss: 0.3429 - val_accuracy: 0.8498\n",
            "Epoch 70/100\n",
            "1599/1599 [==============================] - 4s 3ms/step - loss: 0.3688 - accuracy: 0.8342 - val_loss: 0.3459 - val_accuracy: 0.8507\n",
            "Epoch 71/100\n",
            "1599/1599 [==============================] - 4s 3ms/step - loss: 0.3673 - accuracy: 0.8369 - val_loss: 0.3384 - val_accuracy: 0.8526\n",
            "Epoch 72/100\n",
            "1599/1599 [==============================] - 4s 3ms/step - loss: 0.3675 - accuracy: 0.8359 - val_loss: 0.3435 - val_accuracy: 0.8485\n",
            "Epoch 73/100\n",
            "1599/1599 [==============================] - 4s 2ms/step - loss: 0.3748 - accuracy: 0.8321 - val_loss: 0.3406 - val_accuracy: 0.8483\n",
            "Epoch 74/100\n",
            "1599/1599 [==============================] - 4s 2ms/step - loss: 0.3735 - accuracy: 0.8342 - val_loss: 0.3405 - val_accuracy: 0.8447\n",
            "Epoch 75/100\n",
            "1599/1599 [==============================] - 3s 2ms/step - loss: 0.3735 - accuracy: 0.8328 - val_loss: 0.3445 - val_accuracy: 0.8436\n",
            "Epoch 76/100\n",
            "1599/1599 [==============================] - 3s 2ms/step - loss: 0.3711 - accuracy: 0.8343 - val_loss: 0.3367 - val_accuracy: 0.8494\n",
            "Epoch 77/100\n",
            "1599/1599 [==============================] - 4s 2ms/step - loss: 0.3727 - accuracy: 0.8341 - val_loss: 0.3428 - val_accuracy: 0.8476\n",
            "Epoch 78/100\n",
            "1599/1599 [==============================] - 4s 2ms/step - loss: 0.3730 - accuracy: 0.8325 - val_loss: 0.3501 - val_accuracy: 0.8489\n",
            "Epoch 79/100\n",
            "1599/1599 [==============================] - 3s 2ms/step - loss: 0.3712 - accuracy: 0.8338 - val_loss: 0.3458 - val_accuracy: 0.8476\n",
            "Epoch 80/100\n",
            "1599/1599 [==============================] - 4s 2ms/step - loss: 0.3699 - accuracy: 0.8352 - val_loss: 0.3364 - val_accuracy: 0.8504\n",
            "Epoch 81/100\n",
            "1599/1599 [==============================] - 4s 3ms/step - loss: 0.3727 - accuracy: 0.8335 - val_loss: 0.3431 - val_accuracy: 0.8455\n",
            "Epoch 82/100\n",
            "1599/1599 [==============================] - 4s 2ms/step - loss: 0.3695 - accuracy: 0.8335 - val_loss: 0.3482 - val_accuracy: 0.8393\n",
            "Epoch 83/100\n",
            "1599/1599 [==============================] - 4s 3ms/step - loss: 0.3706 - accuracy: 0.8346 - val_loss: 0.3382 - val_accuracy: 0.8502\n",
            "Epoch 84/100\n",
            "1599/1599 [==============================] - 4s 3ms/step - loss: 0.3688 - accuracy: 0.8362 - val_loss: 0.3417 - val_accuracy: 0.8387\n",
            "Epoch 85/100\n",
            "1599/1599 [==============================] - 4s 3ms/step - loss: 0.3710 - accuracy: 0.8328 - val_loss: 0.3508 - val_accuracy: 0.8492\n",
            "Epoch 86/100\n",
            "1599/1599 [==============================] - 4s 2ms/step - loss: 0.3707 - accuracy: 0.8326 - val_loss: 0.3367 - val_accuracy: 0.8482\n",
            "Epoch 87/100\n",
            "1599/1599 [==============================] - 4s 3ms/step - loss: 0.3749 - accuracy: 0.8336 - val_loss: 0.3535 - val_accuracy: 0.8470\n",
            "Epoch 88/100\n",
            "1599/1599 [==============================] - 4s 2ms/step - loss: 0.3795 - accuracy: 0.8316 - val_loss: 0.3535 - val_accuracy: 0.8461\n",
            "Epoch 89/100\n",
            "1599/1599 [==============================] - 4s 3ms/step - loss: 0.3765 - accuracy: 0.8336 - val_loss: 0.3560 - val_accuracy: 0.8475\n",
            "Epoch 90/100\n",
            "1599/1599 [==============================] - 4s 2ms/step - loss: 0.3804 - accuracy: 0.8309 - val_loss: 0.3677 - val_accuracy: 0.8407\n",
            "Epoch 91/100\n",
            "1599/1599 [==============================] - 4s 3ms/step - loss: 0.3817 - accuracy: 0.8290 - val_loss: 0.3513 - val_accuracy: 0.8480\n",
            "Epoch 92/100\n",
            "1599/1599 [==============================] - 4s 3ms/step - loss: 0.3773 - accuracy: 0.8325 - val_loss: 0.3595 - val_accuracy: 0.8419\n",
            "Epoch 93/100\n",
            "1599/1599 [==============================] - 4s 3ms/step - loss: 0.3790 - accuracy: 0.8316 - val_loss: 0.3524 - val_accuracy: 0.8441\n",
            "Epoch 94/100\n",
            "1599/1599 [==============================] - 4s 3ms/step - loss: 0.3779 - accuracy: 0.8324 - val_loss: 0.3501 - val_accuracy: 0.8476\n",
            "Epoch 95/100\n",
            "1599/1599 [==============================] - 4s 3ms/step - loss: 0.3780 - accuracy: 0.8325 - val_loss: 0.3627 - val_accuracy: 0.8346\n",
            "Epoch 96/100\n",
            "1599/1599 [==============================] - 4s 2ms/step - loss: 0.3794 - accuracy: 0.8314 - val_loss: 0.3512 - val_accuracy: 0.8474\n",
            "Epoch 97/100\n",
            "1599/1599 [==============================] - 4s 2ms/step - loss: 0.3796 - accuracy: 0.8303 - val_loss: 0.3686 - val_accuracy: 0.8313\n",
            "Epoch 98/100\n",
            "1599/1599 [==============================] - 4s 3ms/step - loss: 0.3786 - accuracy: 0.8318 - val_loss: 0.3546 - val_accuracy: 0.8462\n",
            "Epoch 99/100\n",
            "1599/1599 [==============================] - 4s 3ms/step - loss: 0.3785 - accuracy: 0.8314 - val_loss: 0.3541 - val_accuracy: 0.8466\n",
            "Epoch 100/100\n",
            "1599/1599 [==============================] - 4s 2ms/step - loss: 0.3781 - accuracy: 0.8317 - val_loss: 0.3497 - val_accuracy: 0.8481\n"
          ]
        }
      ]
    },
    {
      "cell_type": "code",
      "source": [
        "plt.plot(history.history['accuracy'])\n",
        "plt.plot(history .history['val_accuracy'])\n",
        "plt.title('model accuracy')\n",
        "plt.ylabel('accuracy')\n",
        "plt.xlabel('epoch')\n",
        "plt.legend(['train', 'test'], loc = 'upper left' )\n",
        "plt.show()"
      ],
      "metadata": {
        "colab": {
          "base_uri": "https://localhost:8080/",
          "height": 295
        },
        "id": "OWphSzRr7B20",
        "outputId": "4c1c18e3-09fd-4400-cc99-8ee34dba563e"
      },
      "execution_count": null,
      "outputs": [
        {
          "output_type": "display_data",
          "data": {
            "image/png": "[encoded data removed]",
            "text/plain": [
              "<Figure size 432x288 with 1 Axes>"
            ]
          },
          "metadata": {
            "needs_background": "light"
          }
        }
      ]
    },
    {
      "cell_type": "markdown",
      "source": [
        "\n",
        "\n",
        "*   Logistic Regression\n",
        "\n",
        "\n"
      ],
      "metadata": {
        "id": "iGjagCCODbZS"
      }
    },
    {
      "cell_type": "code",
      "source": [
        "LogModel = LogisticRegression(solver='lbfgs', random_state = 100)###\n",
        "LogModel = LogModel.fit(X_train, y_train)"
      ],
      "metadata": {
        "colab": {
          "base_uri": "https://localhost:8080/"
        },
        "id": "Fy3-MuRQ1Oyq",
        "outputId": "bfa1a1a1-6808-47c0-d738-8f93b9f4b308"
      },
      "execution_count": null,
      "outputs": [
        {
          "output_type": "stream",
          "name": "stderr",
          "text": [
            "/usr/local/lib/python3.7/dist-packages/sklearn/linear_model/_logistic.py:818: ConvergenceWarning: lbfgs failed to converge (status=1):\n",
            "STOP: TOTAL NO. of ITERATIONS REACHED LIMIT.\n",
            "\n",
            "Increase the number of iterations (max_iter) or scale the data as shown in:\n",
            "    https://scikit-learn.org/stable/modules/preprocessing.html\n",
            "Please also refer to the documentation for alternative solver options:\n",
            "    https://scikit-learn.org/stable/modules/linear_model.html#logistic-regression\n",
            "  extra_warning_msg=_LOGISTIC_SOLVER_CONVERGENCE_MSG,\n"
          ]
        }
      ]
    },
    {
      "cell_type": "code",
      "source": [
        "def report(model):\n",
        "    preds = model.predict(X_test)\n",
        "    print(classification_report(preds,y_test))\n",
        "    plot_confusion_matrix(model,X_test,y_test)\n",
        "    plot_precision_recall_curve(model,X_test,y_test)\n",
        "    plot_roc_curve(model,X_test,y_test)"
      ],
      "metadata": {
        "id": "929SnPbZ1dyG"
      },
      "execution_count": null,
      "outputs": []
    },
    {
      "cell_type": "code",
      "source": [
        "print(\"LOGISTIC REGRESSION MODEL\")\n",
        "report(LogModel )"
      ],
      "metadata": {
        "colab": {
          "base_uri": "https://localhost:8080/",
          "height": 1000
        },
        "id": "5kQaGSMG1Vj8",
        "outputId": "27f04664-a7c2-4487-9122-51f56c688f5c"
      },
      "execution_count": null,
      "outputs": [
        {
          "output_type": "stream",
          "name": "stdout",
          "text": [
            "LOGISTIC REGRESSION MODEL\n",
            "              precision    recall  f1-score   support\n",
            "\n",
            "           0       0.98      0.92      0.95     11631\n",
            "           1       0.34      0.64      0.44       726\n",
            "\n",
            "    accuracy                           0.90     12357\n",
            "   macro avg       0.66      0.78      0.69     12357\n",
            "weighted avg       0.94      0.90      0.92     12357\n",
            "\n"
          ]
        },
        {
          "output_type": "stream",
          "name": "stderr",
          "text": [
            "/usr/local/lib/python3.7/dist-packages/sklearn/utils/deprecation.py:87: FutureWarning: Function plot_confusion_matrix is deprecated; Function `plot_confusion_matrix` is deprecated in 1.0 and will be removed in 1.2. Use one of the class methods: ConfusionMatrixDisplay.from_predictions or ConfusionMatrixDisplay.from_estimator.\n",
            "  warnings.warn(msg, category=FutureWarning)\n",
            "/usr/local/lib/python3.7/dist-packages/sklearn/utils/deprecation.py:87: FutureWarning: Function plot_precision_recall_curve is deprecated; Function `plot_precision_recall_curve` is deprecated in 1.0 and will be removed in 1.2. Use one of the class methods: PrecisionRecallDisplay.from_predictions or PrecisionRecallDisplay.from_estimator.\n",
            "  warnings.warn(msg, category=FutureWarning)\n",
            "/usr/local/lib/python3.7/dist-packages/sklearn/utils/deprecation.py:87: FutureWarning: Function plot_roc_curve is deprecated; Function `plot_roc_curve` is deprecated in 1.0 and will be removed in 1.2. Use one of the class methods: RocCurveDisplay.from_predictions or RocCurveDisplay.from_estimator.\n",
            "  warnings.warn(msg, category=FutureWarning)\n"
          ]
        },
        {
          "output_type": "display_data",
          "data": {
            "image/png": "[encoded data removed]",
            "text/plain": [
              "<Figure size 432x288 with 2 Axes>"
            ]
          },
          "metadata": {
            "needs_background": "light"
          }
        },
        {
          "output_type": "display_data",
          "data": {
            "image/png": "[encoded data removed]",
            "text/plain": [
              "<Figure size 432x288 with 1 Axes>"
            ]
          },
          "metadata": {
            "needs_background": "light"
          }
        },
        {
          "output_type": "display_data",
          "data": {
            "image/png": "[encoded data removed]",
            "text/plain": [
              "<Figure size 432x288 with 1 Axes>"
            ]
          },
          "metadata": {
            "needs_background": "light"
          }
        }
      ]
    },
    {
      "cell_type": "markdown",
      "source": [
        "\n",
        "*   Random Forest\n"
      ],
      "metadata": {
        "id": "BFWC3AsqDkgZ"
      }
    },
    {
      "cell_type": "code",
      "source": [
        "rfc_model=RandomForestClassifier()\n",
        "rfc_model.fit(X_train,y_train)"
      ],
      "metadata": {
        "colab": {
          "base_uri": "https://localhost:8080/"
        },
        "id": "u7mCsZaR1k0g",
        "outputId": "31c4876d-a96c-4b6c-ebe8-fcd7063335cf"
      },
      "execution_count": null,
      "outputs": [
        {
          "output_type": "execute_result",
          "data": {
            "text/plain": [
              "RandomForestClassifier()"
            ]
          },
          "metadata": {},
          "execution_count": 20
        }
      ]
    },
    {
      "cell_type": "code",
      "source": [
        "print(\"RANDOM FOREST MODEL\")\n",
        "report(rfc_model)"
      ],
      "metadata": {
        "colab": {
          "base_uri": "https://localhost:8080/",
          "height": 1000
        },
        "id": "fqw7lDLB1r61",
        "outputId": "941d5045-eca5-47fa-a2cc-99c9a66d395d"
      },
      "execution_count": null,
      "outputs": [
        {
          "output_type": "stream",
          "name": "stdout",
          "text": [
            "RANDOM FOREST MODEL\n",
            "              precision    recall  f1-score   support\n",
            "\n",
            "           0       0.97      0.93      0.95     11505\n",
            "           1       0.40      0.65      0.49       852\n",
            "\n",
            "    accuracy                           0.91     12357\n",
            "   macro avg       0.68      0.79      0.72     12357\n",
            "weighted avg       0.93      0.91      0.92     12357\n",
            "\n"
          ]
        },
        {
          "output_type": "stream",
          "name": "stderr",
          "text": [
            "/usr/local/lib/python3.7/dist-packages/sklearn/utils/deprecation.py:87: FutureWarning: Function plot_confusion_matrix is deprecated; Function `plot_confusion_matrix` is deprecated in 1.0 and will be removed in 1.2. Use one of the class methods: ConfusionMatrixDisplay.from_predictions or ConfusionMatrixDisplay.from_estimator.\n",
            "  warnings.warn(msg, category=FutureWarning)\n",
            "/usr/local/lib/python3.7/dist-packages/sklearn/utils/deprecation.py:87: FutureWarning: Function plot_precision_recall_curve is deprecated; Function `plot_precision_recall_curve` is deprecated in 1.0 and will be removed in 1.2. Use one of the class methods: PrecisionRecallDisplay.from_predictions or PrecisionRecallDisplay.from_estimator.\n",
            "  warnings.warn(msg, category=FutureWarning)\n",
            "/usr/local/lib/python3.7/dist-packages/sklearn/utils/deprecation.py:87: FutureWarning: Function plot_roc_curve is deprecated; Function `plot_roc_curve` is deprecated in 1.0 and will be removed in 1.2. Use one of the class methods: RocCurveDisplay.from_predictions or RocCurveDisplay.from_estimator.\n",
            "  warnings.warn(msg, category=FutureWarning)\n"
          ]
        },
        {
          "output_type": "display_data",
          "data": {
            "image/png": "[encoded data removed]",
            "text/plain": [
              "<Figure size 432x288 with 2 Axes>"
            ]
          },
          "metadata": {
            "needs_background": "light"
          }
        },
        {
          "output_type": "display_data",
          "data": {
            "image/png": "[encoded data removed]",
            "text/plain": [
              "<Figure size 432x288 with 1 Axes>"
            ]
          },
          "metadata": {
            "needs_background": "light"
          }
        },
        {
          "output_type": "display_data",
          "data": {
            "image/png": "[encoded data removed]",
            "text/plain": [
              "<Figure size 432x288 with 1 Axes>"
            ]
          },
          "metadata": {
            "needs_background": "light"
          }
        }
      ]
    },
    {
      "cell_type": "markdown",
      "source": [
        "\n",
        "*   Support Vector Machine\n",
        "\n"
      ],
      "metadata": {
        "id": "99o8UtiNDtma"
      }
    },
    {
      "cell_type": "code",
      "source": [
        "svc_model = SVC()\n",
        "svc_model.fit(X_train, y_train)"
      ],
      "metadata": {
        "colab": {
          "base_uri": "https://localhost:8080/"
        },
        "id": "qpj98TFE2UXD",
        "outputId": "9e5d5ff5-3736-4dad-b053-b637a16565b4"
      },
      "execution_count": null,
      "outputs": [
        {
          "output_type": "execute_result",
          "data": {
            "text/plain": [
              "SVC()"
            ]
          },
          "metadata": {},
          "execution_count": 22
        }
      ]
    },
    {
      "cell_type": "code",
      "source": [
        "print(\"SVM MODEL\")\n",
        "report(svc_model)"
      ],
      "metadata": {
        "colab": {
          "base_uri": "https://localhost:8080/",
          "height": 1000
        },
        "id": "4VpeR2mj2WOy",
        "outputId": "ef6fbdd8-31d2-4188-c74e-1e4aa8c3de6a"
      },
      "execution_count": null,
      "outputs": [
        {
          "output_type": "stream",
          "name": "stdout",
          "text": [
            "SVM MODEL\n",
            "              precision    recall  f1-score   support\n",
            "\n",
            "           0       0.98      0.91      0.95     11765\n",
            "           1       0.28      0.65      0.39       592\n",
            "\n",
            "    accuracy                           0.90     12357\n",
            "   macro avg       0.63      0.78      0.67     12357\n",
            "weighted avg       0.95      0.90      0.92     12357\n",
            "\n"
          ]
        },
        {
          "output_type": "stream",
          "name": "stderr",
          "text": [
            "/usr/local/lib/python3.7/dist-packages/sklearn/utils/deprecation.py:87: FutureWarning: Function plot_confusion_matrix is deprecated; Function `plot_confusion_matrix` is deprecated in 1.0 and will be removed in 1.2. Use one of the class methods: ConfusionMatrixDisplay.from_predictions or ConfusionMatrixDisplay.from_estimator.\n",
            "  warnings.warn(msg, category=FutureWarning)\n",
            "/usr/local/lib/python3.7/dist-packages/sklearn/utils/deprecation.py:87: FutureWarning: Function plot_precision_recall_curve is deprecated; Function `plot_precision_recall_curve` is deprecated in 1.0 and will be removed in 1.2. Use one of the class methods: PrecisionRecallDisplay.from_predictions or PrecisionRecallDisplay.from_estimator.\n",
            "  warnings.warn(msg, category=FutureWarning)\n",
            "/usr/local/lib/python3.7/dist-packages/sklearn/utils/deprecation.py:87: FutureWarning: Function plot_roc_curve is deprecated; Function `plot_roc_curve` is deprecated in 1.0 and will be removed in 1.2. Use one of the class methods: RocCurveDisplay.from_predictions or RocCurveDisplay.from_estimator.\n",
            "  warnings.warn(msg, category=FutureWarning)\n"
          ]
        },
        {
          "output_type": "display_data",
          "data": {
            "image/png": "[encoded data removed]",
            "text/plain": [
              "<Figure size 432x288 with 2 Axes>"
            ]
          },
          "metadata": {
            "needs_background": "light"
          }
        },
        {
          "output_type": "display_data",
          "data": {
            "image/png": "[encoded data removed]",
            "text/plain": [
              "<Figure size 432x288 with 1 Axes>"
            ]
          },
          "metadata": {
            "needs_background": "light"
          }
        },
        {
          "output_type": "display_data",
          "data": {
            "image/png": "[encoded data removed]",
            "text/plain": [
              "<Figure size 432x288 with 1 Axes>"
            ]
          },
          "metadata": {
            "needs_background": "light"
          }
        }
      ]
    },
    {
      "cell_type": "code",
      "source": [
        "from sklearn.tree import DecisionTreeClassifier\n",
        "\n",
        "dtree = DecisionTreeClassifier()\n",
        "dtree.fit(X_train, y_train)\n",
        "dtree_score = dtree.score(X_test, y_test)\n",
        "print(\"Decision Tree Model accuracy \"+str(round(dtree_score*100, 1))+\"%\")"
      ],
      "metadata": {
        "colab": {
          "base_uri": "https://localhost:8080/"
        },
        "id": "jdw9mZLT3Na8",
        "outputId": "c485edde-e2ae-4b8c-e268-3f1f480e157f"
      },
      "execution_count": null,
      "outputs": [
        {
          "output_type": "stream",
          "name": "stdout",
          "text": [
            "Decision Tree Model accuracy 87.6%\n"
          ]
        }
      ]
    },
    {
      "cell_type": "markdown",
      "source": [
        "**Implémentation des modèles après SMOTE**\n",
        "\n",
        "1.   Tout d'abord nous avons appliquer le SMOTE afin de generer des nouveaux exemples de la classe minoritaire.\n",
        "\n",
        "\n",
        "\n",
        "\n",
        "\n"
      ],
      "metadata": {
        "id": "0C7VZMAOStWL"
      }
    },
    {
      "cell_type": "code",
      "source": [
        "X, Y = SMOTE().fit_resample(X,Y)"
      ],
      "metadata": {
        "id": "wSwuhapZwkdY"
      },
      "execution_count": null,
      "outputs": []
    },
    {
      "cell_type": "code",
      "source": [
        "y_un,count = np.unique(Y,return_counts=True)\n",
        "plt.title(\"Class Balancing\")\n",
        "plt.xlabel(\"Class\")\n",
        "plt.ylabel(\"Count\")\n",
        "plt.bar([str(i) for i in y_un],count)\n",
        "plt.show()"
      ],
      "metadata": {
        "colab": {
          "base_uri": "https://localhost:8080/",
          "height": 295
        },
        "id": "ci-IM7dXynH4",
        "outputId": "321ad089-e2d1-4bc0-e29d-e6a16109fb27"
      },
      "execution_count": null,
      "outputs": [
        {
          "output_type": "display_data",
          "data": {
            "image/png": "[encoded data removed]",
            "text/plain": [
              "<Figure size 432x288 with 1 Axes>"
            ]
          },
          "metadata": {
            "needs_background": "light"
          }
        }
      ]
    },
    {
      "cell_type": "code",
      "source": [
        "def report(model):\n",
        "    preds = model.predict(X_test)\n",
        "    print(classification_report(preds,y_test))\n",
        "    plot_confusion_matrix(model,X_test,y_test)\n",
        "    plot_precision_recall_curve(model,X_test,y_test)\n",
        "    plot_roc_curve(model,X_test,y_test)"
      ],
      "metadata": {
        "id": "J8AneuwE8VxA"
      },
      "execution_count": null,
      "outputs": []
    },
    {
      "cell_type": "code",
      "source": [
        "X_train, X_test, y_train, y_test = train_test_split(X, Y, test_size = 0.3, random_state = 0)\n",
        "columns = X_train.columns"
      ],
      "metadata": {
        "id": "foJNwNGSSzgX"
      },
      "execution_count": null,
      "outputs": []
    },
    {
      "cell_type": "code",
      "source": [
        "print(\"len de X_train = \", len(X_train))\n",
        "print(\"len de y_train = \", len(y_train))"
      ],
      "metadata": {
        "colab": {
          "base_uri": "https://localhost:8080/"
        },
        "id": "6t1BU-EyTrDJ",
        "outputId": "83c5f75b-c39b-4cc7-b8e7-a67decab7a4d"
      },
      "execution_count": null,
      "outputs": [
        {
          "output_type": "stream",
          "name": "stdout",
          "text": [
            "len de X_train =  51167\n",
            "len de y_train =  51167\n"
          ]
        }
      ]
    },
    {
      "cell_type": "code",
      "source": [
        "print(np.shape(X_train))\n",
        "print(np.shape(y_train))\n",
        "print(np.shape(X_test))\n",
        "print(np.shape(y_test))"
      ],
      "metadata": {
        "colab": {
          "base_uri": "https://localhost:8080/"
        },
        "id": "pXkxDJbrTtuU",
        "outputId": "3d6d8658-5974-46c3-9cb5-725cb7d6b024"
      },
      "execution_count": null,
      "outputs": [
        {
          "output_type": "stream",
          "name": "stdout",
          "text": [
            "(51167, 14)\n",
            "(51167,)\n",
            "(21929, 14)\n",
            "(21929,)\n"
          ]
        }
      ]
    },
    {
      "cell_type": "code",
      "source": [
        "model1 = Sequential([\n",
        "                    Dense(64, activation = 'relu', input_shape = (14,)),\n",
        "                    Dropout(0.5),\n",
        "                    Dense(1, activation = 'sigmoid')\n",
        "                   ])\n",
        "model1.summary()"
      ],
      "metadata": {
        "colab": {
          "base_uri": "https://localhost:8080/"
        },
        "id": "hse5SPn-Tw6p",
        "outputId": "c72ab6dd-f346-4561-edf9-572a382ab359"
      },
      "execution_count": null,
      "outputs": [
        {
          "output_type": "stream",
          "name": "stdout",
          "text": [
            "Model: \"sequential_1\"\n",
            "_________________________________________________________________\n",
            " Layer (type)                Output Shape              Param #   \n",
            "=================================================================\n",
            " dense_2 (Dense)             (None, 64)                960       \n",
            "                                                                 \n",
            " dropout_1 (Dropout)         (None, 64)                0         \n",
            "                                                                 \n",
            " dense_3 (Dense)             (None, 1)                 65        \n",
            "                                                                 \n",
            "=================================================================\n",
            "Total params: 1,025\n",
            "Trainable params: 1,025\n",
            "Non-trainable params: 0\n",
            "_________________________________________________________________\n"
          ]
        }
      ]
    },
    {
      "cell_type": "code",
      "source": [
        "model1.compile(loss = 'binary_crossentropy', optimizer = 'adam', metrics = [\"accuracy\"])\n",
        "history = model1.fit(X_train, y_train, validation_data = (X_test, y_test), epochs = 150)"
      ],
      "metadata": {
        "colab": {
          "base_uri": "https://localhost:8080/"
        },
        "id": "IvowTDt6UGfT",
        "outputId": "6e38a802-364b-4d5e-f2d2-3b30f737ed2f"
      },
      "execution_count": null,
      "outputs": [
        {
          "output_type": "stream",
          "name": "stdout",
          "text": [
            "Epoch 1/150\n",
            "1599/1599 [==============================] - 9s 5ms/step - loss: 6.0098 - accuracy: 0.7173 - val_loss: 0.5251 - val_accuracy: 0.7869\n",
            "Epoch 2/150\n",
            "1599/1599 [==============================] - 4s 2ms/step - loss: 0.5226 - accuracy: 0.7619 - val_loss: 0.4376 - val_accuracy: 0.8059\n",
            "Epoch 3/150\n",
            "1599/1599 [==============================] - 4s 2ms/step - loss: 0.4698 - accuracy: 0.7863 - val_loss: 0.4144 - val_accuracy: 0.8156\n",
            "Epoch 4/150\n",
            "1599/1599 [==============================] - 4s 2ms/step - loss: 0.4407 - accuracy: 0.8014 - val_loss: 0.4066 - val_accuracy: 0.8224\n",
            "Epoch 5/150\n",
            "1599/1599 [==============================] - 4s 2ms/step - loss: 0.4212 - accuracy: 0.8139 - val_loss: 0.4160 - val_accuracy: 0.8218\n",
            "Epoch 6/150\n",
            "1599/1599 [==============================] - 4s 3ms/step - loss: 0.4104 - accuracy: 0.8188 - val_loss: 0.3750 - val_accuracy: 0.8330\n",
            "Epoch 7/150\n",
            "1599/1599 [==============================] - 4s 3ms/step - loss: 0.4030 - accuracy: 0.8216 - val_loss: 0.3579 - val_accuracy: 0.8439\n",
            "Epoch 8/150\n",
            "1599/1599 [==============================] - 3s 2ms/step - loss: 0.3941 - accuracy: 0.8263 - val_loss: 0.3538 - val_accuracy: 0.8443\n",
            "Epoch 9/150\n",
            "1599/1599 [==============================] - 4s 2ms/step - loss: 0.3901 - accuracy: 0.8287 - val_loss: 0.3556 - val_accuracy: 0.8389\n",
            "Epoch 10/150\n",
            "1599/1599 [==============================] - 4s 2ms/step - loss: 0.3911 - accuracy: 0.8278 - val_loss: 0.3526 - val_accuracy: 0.8476\n",
            "Epoch 11/150\n",
            "1599/1599 [==============================] - 4s 3ms/step - loss: 0.3855 - accuracy: 0.8304 - val_loss: 0.3529 - val_accuracy: 0.8408\n",
            "Epoch 12/150\n",
            "1599/1599 [==============================] - 4s 3ms/step - loss: 0.3829 - accuracy: 0.8314 - val_loss: 0.3797 - val_accuracy: 0.8368\n",
            "Epoch 13/150\n",
            "1599/1599 [==============================] - 4s 2ms/step - loss: 0.3785 - accuracy: 0.8325 - val_loss: 0.3499 - val_accuracy: 0.8451\n",
            "Epoch 14/150\n",
            "1599/1599 [==============================] - 4s 2ms/step - loss: 0.3809 - accuracy: 0.8316 - val_loss: 0.3392 - val_accuracy: 0.8533\n",
            "Epoch 15/150\n",
            "1599/1599 [==============================] - 4s 3ms/step - loss: 0.3803 - accuracy: 0.8326 - val_loss: 0.3484 - val_accuracy: 0.8505\n",
            "Epoch 16/150\n",
            "1599/1599 [==============================] - 4s 3ms/step - loss: 0.3796 - accuracy: 0.8328 - val_loss: 0.3475 - val_accuracy: 0.8487\n",
            "Epoch 17/150\n",
            "1599/1599 [==============================] - 5s 3ms/step - loss: 0.3764 - accuracy: 0.8335 - val_loss: 0.3432 - val_accuracy: 0.8502\n",
            "Epoch 18/150\n",
            "1599/1599 [==============================] - 4s 3ms/step - loss: 0.3794 - accuracy: 0.8324 - val_loss: 0.3384 - val_accuracy: 0.8543\n",
            "Epoch 19/150\n",
            "1599/1599 [==============================] - 4s 3ms/step - loss: 0.3762 - accuracy: 0.8339 - val_loss: 0.3369 - val_accuracy: 0.8533\n",
            "Epoch 20/150\n",
            "1599/1599 [==============================] - 4s 3ms/step - loss: 0.3785 - accuracy: 0.8330 - val_loss: 0.3403 - val_accuracy: 0.8472\n",
            "Epoch 21/150\n",
            "1599/1599 [==============================] - 5s 3ms/step - loss: 0.3760 - accuracy: 0.8352 - val_loss: 0.3371 - val_accuracy: 0.8543\n",
            "Epoch 22/150\n",
            "1599/1599 [==============================] - 4s 3ms/step - loss: 0.3771 - accuracy: 0.8341 - val_loss: 0.3417 - val_accuracy: 0.8470\n",
            "Epoch 23/150\n",
            "1599/1599 [==============================] - 4s 3ms/step - loss: 0.3746 - accuracy: 0.8365 - val_loss: 0.3372 - val_accuracy: 0.8522\n",
            "Epoch 24/150\n",
            "1599/1599 [==============================] - 4s 3ms/step - loss: 0.3766 - accuracy: 0.8339 - val_loss: 0.3398 - val_accuracy: 0.8512\n",
            "Epoch 25/150\n",
            "1599/1599 [==============================] - 4s 3ms/step - loss: 0.3774 - accuracy: 0.8330 - val_loss: 0.3480 - val_accuracy: 0.8476\n",
            "Epoch 26/150\n",
            "1599/1599 [==============================] - 4s 3ms/step - loss: 0.3729 - accuracy: 0.8365 - val_loss: 0.3408 - val_accuracy: 0.8545\n",
            "Epoch 27/150\n",
            "1599/1599 [==============================] - 4s 3ms/step - loss: 0.3733 - accuracy: 0.8354 - val_loss: 0.3419 - val_accuracy: 0.8500\n",
            "Epoch 28/150\n",
            "1599/1599 [==============================] - 4s 2ms/step - loss: 0.3763 - accuracy: 0.8352 - val_loss: 0.3365 - val_accuracy: 0.8526\n",
            "Epoch 29/150\n",
            "1599/1599 [==============================] - 4s 3ms/step - loss: 0.3731 - accuracy: 0.8357 - val_loss: 0.3366 - val_accuracy: 0.8508\n",
            "Epoch 30/150\n",
            "1599/1599 [==============================] - 4s 3ms/step - loss: 0.3747 - accuracy: 0.8343 - val_loss: 0.3426 - val_accuracy: 0.8491\n",
            "Epoch 31/150\n",
            "1599/1599 [==============================] - 4s 2ms/step - loss: 0.3748 - accuracy: 0.8359 - val_loss: 0.3371 - val_accuracy: 0.8517\n",
            "Epoch 32/150\n",
            "1599/1599 [==============================] - 4s 2ms/step - loss: 0.3720 - accuracy: 0.8374 - val_loss: 0.3446 - val_accuracy: 0.8530\n",
            "Epoch 33/150\n",
            "1599/1599 [==============================] - 4s 2ms/step - loss: 0.3742 - accuracy: 0.8349 - val_loss: 0.3355 - val_accuracy: 0.8466\n",
            "Epoch 34/150\n",
            "1599/1599 [==============================] - 4s 3ms/step - loss: 0.3753 - accuracy: 0.8357 - val_loss: 0.3328 - val_accuracy: 0.8496\n",
            "Epoch 35/150\n",
            "1599/1599 [==============================] - 4s 3ms/step - loss: 0.3745 - accuracy: 0.8343 - val_loss: 0.3517 - val_accuracy: 0.8414\n",
            "Epoch 36/150\n",
            "1599/1599 [==============================] - 3s 2ms/step - loss: 0.3772 - accuracy: 0.8325 - val_loss: 0.3399 - val_accuracy: 0.8487\n",
            "Epoch 37/150\n",
            "1599/1599 [==============================] - 4s 3ms/step - loss: 0.3751 - accuracy: 0.8336 - val_loss: 0.3462 - val_accuracy: 0.8429\n",
            "Epoch 38/150\n",
            "1599/1599 [==============================] - 4s 2ms/step - loss: 0.3756 - accuracy: 0.8358 - val_loss: 0.3497 - val_accuracy: 0.8476\n",
            "Epoch 39/150\n",
            "1599/1599 [==============================] - 4s 3ms/step - loss: 0.3760 - accuracy: 0.8329 - val_loss: 0.3401 - val_accuracy: 0.8477\n",
            "Epoch 40/150\n",
            "1599/1599 [==============================] - 4s 2ms/step - loss: 0.3750 - accuracy: 0.8348 - val_loss: 0.3378 - val_accuracy: 0.8486\n",
            "Epoch 41/150\n",
            "1599/1599 [==============================] - 3s 2ms/step - loss: 0.3737 - accuracy: 0.8343 - val_loss: 0.3842 - val_accuracy: 0.8290\n",
            "Epoch 42/150\n",
            "1599/1599 [==============================] - 4s 3ms/step - loss: 0.3761 - accuracy: 0.8329 - val_loss: 0.3391 - val_accuracy: 0.8466\n",
            "Epoch 43/150\n",
            "1599/1599 [==============================] - 4s 3ms/step - loss: 0.3722 - accuracy: 0.8350 - val_loss: 0.3440 - val_accuracy: 0.8426\n",
            "Epoch 44/150\n",
            "1599/1599 [==============================] - 3s 2ms/step - loss: 0.3711 - accuracy: 0.8331 - val_loss: 0.3374 - val_accuracy: 0.8438\n",
            "Epoch 45/150\n",
            "1599/1599 [==============================] - 4s 3ms/step - loss: 0.3712 - accuracy: 0.8343 - val_loss: 0.3336 - val_accuracy: 0.8513\n",
            "Epoch 46/150\n",
            "1599/1599 [==============================] - 5s 3ms/step - loss: 0.3716 - accuracy: 0.8357 - val_loss: 0.3376 - val_accuracy: 0.8519\n",
            "Epoch 47/150\n",
            "1599/1599 [==============================] - 4s 3ms/step - loss: 0.3720 - accuracy: 0.8349 - val_loss: 0.3415 - val_accuracy: 0.8482\n",
            "Epoch 48/150\n",
            "1599/1599 [==============================] - 4s 2ms/step - loss: 0.3701 - accuracy: 0.8361 - val_loss: 0.3284 - val_accuracy: 0.8551\n",
            "Epoch 49/150\n",
            "1599/1599 [==============================] - 4s 3ms/step - loss: 0.3720 - accuracy: 0.8351 - val_loss: 0.3442 - val_accuracy: 0.8485\n",
            "Epoch 50/150\n",
            "1599/1599 [==============================] - 4s 3ms/step - loss: 0.3702 - accuracy: 0.8359 - val_loss: 0.3251 - val_accuracy: 0.8544\n",
            "Epoch 51/150\n",
            "1599/1599 [==============================] - 4s 2ms/step - loss: 0.3689 - accuracy: 0.8369 - val_loss: 0.3353 - val_accuracy: 0.8526\n",
            "Epoch 52/150\n",
            "1599/1599 [==============================] - 4s 3ms/step - loss: 0.3693 - accuracy: 0.8351 - val_loss: 0.3333 - val_accuracy: 0.8541\n",
            "Epoch 53/150\n",
            "1599/1599 [==============================] - 4s 3ms/step - loss: 0.3673 - accuracy: 0.8377 - val_loss: 0.3390 - val_accuracy: 0.8536\n",
            "Epoch 54/150\n",
            "1599/1599 [==============================] - 4s 2ms/step - loss: 0.3659 - accuracy: 0.8369 - val_loss: 0.3448 - val_accuracy: 0.8502\n",
            "Epoch 55/150\n",
            "1599/1599 [==============================] - 4s 3ms/step - loss: 0.3662 - accuracy: 0.8372 - val_loss: 0.3283 - val_accuracy: 0.8518\n",
            "Epoch 56/150\n",
            "1599/1599 [==============================] - 4s 3ms/step - loss: 0.3665 - accuracy: 0.8375 - val_loss: 0.3423 - val_accuracy: 0.8433\n",
            "Epoch 57/150\n",
            "1599/1599 [==============================] - 4s 3ms/step - loss: 0.3657 - accuracy: 0.8387 - val_loss: 0.3338 - val_accuracy: 0.8437\n",
            "Epoch 58/150\n",
            "1599/1599 [==============================] - 4s 3ms/step - loss: 0.3663 - accuracy: 0.8373 - val_loss: 0.3301 - val_accuracy: 0.8530\n",
            "Epoch 59/150\n",
            "1599/1599 [==============================] - 4s 3ms/step - loss: 0.3667 - accuracy: 0.8388 - val_loss: 0.3263 - val_accuracy: 0.8521\n",
            "Epoch 60/150\n",
            "1599/1599 [==============================] - 4s 3ms/step - loss: 0.3659 - accuracy: 0.8381 - val_loss: 0.3309 - val_accuracy: 0.8528\n",
            "Epoch 61/150\n",
            "1599/1599 [==============================] - 4s 3ms/step - loss: 0.3675 - accuracy: 0.8384 - val_loss: 0.3236 - val_accuracy: 0.8561\n",
            "Epoch 62/150\n",
            "1599/1599 [==============================] - 4s 2ms/step - loss: 0.3699 - accuracy: 0.8370 - val_loss: 0.3296 - val_accuracy: 0.8494\n",
            "Epoch 63/150\n",
            "1599/1599 [==============================] - 4s 2ms/step - loss: 0.3700 - accuracy: 0.8369 - val_loss: 0.3477 - val_accuracy: 0.8498\n",
            "Epoch 64/150\n",
            "1599/1599 [==============================] - 4s 2ms/step - loss: 0.3706 - accuracy: 0.8362 - val_loss: 0.3497 - val_accuracy: 0.8517\n",
            "Epoch 65/150\n",
            "1599/1599 [==============================] - 4s 3ms/step - loss: 0.3674 - accuracy: 0.8382 - val_loss: 0.3386 - val_accuracy: 0.8510\n",
            "Epoch 66/150\n",
            "1599/1599 [==============================] - 4s 3ms/step - loss: 0.3681 - accuracy: 0.8371 - val_loss: 0.3371 - val_accuracy: 0.8525\n",
            "Epoch 67/150\n",
            "1599/1599 [==============================] - 4s 3ms/step - loss: 0.3698 - accuracy: 0.8378 - val_loss: 0.3449 - val_accuracy: 0.8509\n",
            "Epoch 68/150\n",
            "1599/1599 [==============================] - 4s 2ms/step - loss: 0.3669 - accuracy: 0.8370 - val_loss: 0.3314 - val_accuracy: 0.8533\n",
            "Epoch 69/150\n",
            "1599/1599 [==============================] - 3s 2ms/step - loss: 0.3682 - accuracy: 0.8362 - val_loss: 0.3300 - val_accuracy: 0.8487\n",
            "Epoch 70/150\n",
            "1599/1599 [==============================] - 7s 4ms/step - loss: 0.3703 - accuracy: 0.8358 - val_loss: 0.3424 - val_accuracy: 0.8484\n",
            "Epoch 71/150\n",
            "1599/1599 [==============================] - 10s 6ms/step - loss: 0.3691 - accuracy: 0.8349 - val_loss: 0.3310 - val_accuracy: 0.8507\n",
            "Epoch 72/150\n",
            "1599/1599 [==============================] - 10s 6ms/step - loss: 0.3688 - accuracy: 0.8353 - val_loss: 0.3454 - val_accuracy: 0.8473\n",
            "Epoch 73/150\n",
            "1599/1599 [==============================] - 4s 3ms/step - loss: 0.3691 - accuracy: 0.8362 - val_loss: 0.3265 - val_accuracy: 0.8538\n",
            "Epoch 74/150\n",
            "1599/1599 [==============================] - 4s 3ms/step - loss: 0.3683 - accuracy: 0.8351 - val_loss: 0.3286 - val_accuracy: 0.8507\n",
            "Epoch 75/150\n",
            "1599/1599 [==============================] - 4s 3ms/step - loss: 0.3675 - accuracy: 0.8350 - val_loss: 0.3237 - val_accuracy: 0.8543\n",
            "Epoch 76/150\n",
            "1599/1599 [==============================] - 4s 3ms/step - loss: 0.3684 - accuracy: 0.8348 - val_loss: 0.3293 - val_accuracy: 0.8536\n",
            "Epoch 77/150\n",
            "1599/1599 [==============================] - 4s 2ms/step - loss: 0.3652 - accuracy: 0.8364 - val_loss: 0.3335 - val_accuracy: 0.8516\n",
            "Epoch 78/150\n",
            "1599/1599 [==============================] - 4s 3ms/step - loss: 0.3665 - accuracy: 0.8367 - val_loss: 0.3350 - val_accuracy: 0.8450\n",
            "Epoch 79/150\n",
            "1599/1599 [==============================] - 4s 3ms/step - loss: 0.3681 - accuracy: 0.8343 - val_loss: 0.3246 - val_accuracy: 0.8533\n",
            "Epoch 80/150\n",
            "1599/1599 [==============================] - 4s 3ms/step - loss: 0.3646 - accuracy: 0.8380 - val_loss: 0.3350 - val_accuracy: 0.8494\n",
            "Epoch 81/150\n",
            "1599/1599 [==============================] - 4s 3ms/step - loss: 0.3684 - accuracy: 0.8365 - val_loss: 0.3310 - val_accuracy: 0.8527\n",
            "Epoch 82/150\n",
            "1599/1599 [==============================] - 4s 3ms/step - loss: 0.3752 - accuracy: 0.8324 - val_loss: 0.3372 - val_accuracy: 0.8514\n",
            "Epoch 83/150\n",
            "1599/1599 [==============================] - 4s 2ms/step - loss: 0.3739 - accuracy: 0.8347 - val_loss: 0.3335 - val_accuracy: 0.8506\n",
            "Epoch 84/150\n",
            "1599/1599 [==============================] - 4s 3ms/step - loss: 0.3734 - accuracy: 0.8338 - val_loss: 0.3281 - val_accuracy: 0.8528\n",
            "Epoch 85/150\n",
            "1599/1599 [==============================] - 4s 2ms/step - loss: 0.3724 - accuracy: 0.8331 - val_loss: 0.3418 - val_accuracy: 0.8409\n",
            "Epoch 86/150\n",
            "1599/1599 [==============================] - 4s 3ms/step - loss: 0.3716 - accuracy: 0.8347 - val_loss: 0.3393 - val_accuracy: 0.8503\n",
            "Epoch 87/150\n",
            "1599/1599 [==============================] - 4s 2ms/step - loss: 0.3731 - accuracy: 0.8338 - val_loss: 0.3361 - val_accuracy: 0.8511\n",
            "Epoch 88/150\n",
            "1599/1599 [==============================] - 4s 3ms/step - loss: 0.3729 - accuracy: 0.8336 - val_loss: 0.3307 - val_accuracy: 0.8477\n",
            "Epoch 89/150\n",
            "1599/1599 [==============================] - 4s 2ms/step - loss: 0.3744 - accuracy: 0.8331 - val_loss: 0.3395 - val_accuracy: 0.8486\n",
            "Epoch 90/150\n",
            "1599/1599 [==============================] - 4s 3ms/step - loss: 0.3720 - accuracy: 0.8333 - val_loss: 0.3534 - val_accuracy: 0.8293\n",
            "Epoch 91/150\n",
            "1599/1599 [==============================] - 4s 3ms/step - loss: 0.3715 - accuracy: 0.8349 - val_loss: 0.3454 - val_accuracy: 0.8529\n",
            "Epoch 92/150\n",
            "1599/1599 [==============================] - 4s 3ms/step - loss: 0.3731 - accuracy: 0.8334 - val_loss: 0.3400 - val_accuracy: 0.8497\n",
            "Epoch 93/150\n",
            "1599/1599 [==============================] - 4s 3ms/step - loss: 0.3694 - accuracy: 0.8335 - val_loss: 0.3565 - val_accuracy: 0.8279\n",
            "Epoch 94/150\n",
            "1599/1599 [==============================] - 4s 2ms/step - loss: 0.3760 - accuracy: 0.8321 - val_loss: 0.3620 - val_accuracy: 0.8411\n",
            "Epoch 95/150\n",
            "1599/1599 [==============================] - 4s 3ms/step - loss: 0.3839 - accuracy: 0.8299 - val_loss: 0.3543 - val_accuracy: 0.8466\n",
            "Epoch 96/150\n",
            "1599/1599 [==============================] - 4s 3ms/step - loss: 0.3834 - accuracy: 0.8292 - val_loss: 0.3527 - val_accuracy: 0.8471\n",
            "Epoch 97/150\n",
            "1599/1599 [==============================] - 4s 3ms/step - loss: 0.3821 - accuracy: 0.8298 - val_loss: 0.3559 - val_accuracy: 0.8472\n",
            "Epoch 98/150\n",
            "1599/1599 [==============================] - 4s 3ms/step - loss: 0.3794 - accuracy: 0.8334 - val_loss: 0.3544 - val_accuracy: 0.8475\n",
            "Epoch 99/150\n",
            "1599/1599 [==============================] - 4s 3ms/step - loss: 0.3800 - accuracy: 0.8313 - val_loss: 0.3528 - val_accuracy: 0.8467\n",
            "Epoch 100/150\n",
            "1599/1599 [==============================] - 4s 3ms/step - loss: 0.3813 - accuracy: 0.8302 - val_loss: 0.3515 - val_accuracy: 0.8470\n",
            "Epoch 101/150\n",
            "1599/1599 [==============================] - 4s 3ms/step - loss: 0.3818 - accuracy: 0.8306 - val_loss: 0.3550 - val_accuracy: 0.8408\n",
            "Epoch 102/150\n",
            "1599/1599 [==============================] - 4s 3ms/step - loss: 0.3792 - accuracy: 0.8301 - val_loss: 0.3504 - val_accuracy: 0.8474\n",
            "Epoch 103/150\n",
            "1599/1599 [==============================] - 4s 2ms/step - loss: 0.3849 - accuracy: 0.8276 - val_loss: 0.3589 - val_accuracy: 0.8405\n",
            "Epoch 104/150\n",
            "1599/1599 [==============================] - 4s 2ms/step - loss: 0.3797 - accuracy: 0.8313 - val_loss: 0.3586 - val_accuracy: 0.8415\n",
            "Epoch 105/150\n",
            "1599/1599 [==============================] - 4s 2ms/step - loss: 0.3811 - accuracy: 0.8297 - val_loss: 0.3542 - val_accuracy: 0.8457\n",
            "Epoch 106/150\n",
            "1599/1599 [==============================] - 4s 2ms/step - loss: 0.3821 - accuracy: 0.8309 - val_loss: 0.3554 - val_accuracy: 0.8427\n",
            "Epoch 107/150\n",
            "1599/1599 [==============================] - 4s 3ms/step - loss: 0.3821 - accuracy: 0.8293 - val_loss: 0.3553 - val_accuracy: 0.8474\n",
            "Epoch 108/150\n",
            "1599/1599 [==============================] - 4s 2ms/step - loss: 0.3797 - accuracy: 0.8312 - val_loss: 0.3535 - val_accuracy: 0.8474\n",
            "Epoch 109/150\n",
            "1599/1599 [==============================] - 4s 2ms/step - loss: 0.3816 - accuracy: 0.8304 - val_loss: 0.3587 - val_accuracy: 0.8402\n",
            "Epoch 110/150\n",
            "1599/1599 [==============================] - 4s 2ms/step - loss: 0.3798 - accuracy: 0.8314 - val_loss: 0.3574 - val_accuracy: 0.8442\n",
            "Epoch 111/150\n",
            "1599/1599 [==============================] - 4s 2ms/step - loss: 0.3804 - accuracy: 0.8316 - val_loss: 0.3492 - val_accuracy: 0.8482\n",
            "Epoch 112/150\n",
            "1599/1599 [==============================] - 4s 3ms/step - loss: 0.3808 - accuracy: 0.8309 - val_loss: 0.3515 - val_accuracy: 0.8478\n",
            "Epoch 113/150\n",
            "1599/1599 [==============================] - 4s 3ms/step - loss: 0.3817 - accuracy: 0.8305 - val_loss: 0.3538 - val_accuracy: 0.8475\n",
            "Epoch 114/150\n",
            "1599/1599 [==============================] - 4s 3ms/step - loss: 0.3801 - accuracy: 0.8326 - val_loss: 0.3565 - val_accuracy: 0.8471\n",
            "Epoch 115/150\n",
            "1599/1599 [==============================] - 4s 2ms/step - loss: 0.3815 - accuracy: 0.8304 - val_loss: 0.3579 - val_accuracy: 0.8478\n",
            "Epoch 116/150\n",
            "1599/1599 [==============================] - 4s 3ms/step - loss: 0.3813 - accuracy: 0.8310 - val_loss: 0.3537 - val_accuracy: 0.8476\n",
            "Epoch 117/150\n",
            "1599/1599 [==============================] - 4s 3ms/step - loss: 0.3799 - accuracy: 0.8325 - val_loss: 0.3512 - val_accuracy: 0.8468\n",
            "Epoch 118/150\n",
            "1599/1599 [==============================] - 4s 2ms/step - loss: 0.3805 - accuracy: 0.8293 - val_loss: 0.3534 - val_accuracy: 0.8483\n",
            "Epoch 119/150\n",
            "1599/1599 [==============================] - 5s 3ms/step - loss: 0.3794 - accuracy: 0.8313 - val_loss: 0.3571 - val_accuracy: 0.8422\n",
            "Epoch 120/150\n",
            "1599/1599 [==============================] - 5s 3ms/step - loss: 0.3793 - accuracy: 0.8317 - val_loss: 0.3488 - val_accuracy: 0.8482\n",
            "Epoch 121/150\n",
            "1599/1599 [==============================] - 4s 2ms/step - loss: 0.3801 - accuracy: 0.8306 - val_loss: 0.3525 - val_accuracy: 0.8478\n",
            "Epoch 122/150\n",
            "1599/1599 [==============================] - 4s 3ms/step - loss: 0.3796 - accuracy: 0.8310 - val_loss: 0.3610 - val_accuracy: 0.8480\n",
            "Epoch 123/150\n",
            "1599/1599 [==============================] - 4s 3ms/step - loss: 0.3798 - accuracy: 0.8328 - val_loss: 0.3560 - val_accuracy: 0.8435\n",
            "Epoch 124/150\n",
            "1599/1599 [==============================] - 4s 2ms/step - loss: 0.3814 - accuracy: 0.8309 - val_loss: 0.3502 - val_accuracy: 0.8476\n",
            "Epoch 125/150\n",
            "1599/1599 [==============================] - 4s 3ms/step - loss: 0.3809 - accuracy: 0.8299 - val_loss: 0.3504 - val_accuracy: 0.8478\n",
            "Epoch 126/150\n",
            "1599/1599 [==============================] - 4s 3ms/step - loss: 0.3786 - accuracy: 0.8307 - val_loss: 0.3522 - val_accuracy: 0.8471\n",
            "Epoch 127/150\n",
            "1599/1599 [==============================] - 4s 2ms/step - loss: 0.3804 - accuracy: 0.8330 - val_loss: 0.3513 - val_accuracy: 0.8486\n",
            "Epoch 128/150\n",
            "1599/1599 [==============================] - 4s 2ms/step - loss: 0.3796 - accuracy: 0.8317 - val_loss: 0.3505 - val_accuracy: 0.8492\n",
            "Epoch 129/150\n",
            "1599/1599 [==============================] - 4s 2ms/step - loss: 0.3802 - accuracy: 0.8323 - val_loss: 0.3514 - val_accuracy: 0.8472\n",
            "Epoch 130/150\n",
            "1599/1599 [==============================] - 4s 2ms/step - loss: 0.3798 - accuracy: 0.8315 - val_loss: 0.3506 - val_accuracy: 0.8490\n",
            "Epoch 131/150\n",
            "1599/1599 [==============================] - 4s 2ms/step - loss: 0.3801 - accuracy: 0.8326 - val_loss: 0.3489 - val_accuracy: 0.8495\n",
            "Epoch 132/150\n",
            "1599/1599 [==============================] - 4s 3ms/step - loss: 0.3806 - accuracy: 0.8303 - val_loss: 0.3619 - val_accuracy: 0.8367\n",
            "Epoch 133/150\n",
            "1599/1599 [==============================] - 4s 2ms/step - loss: 0.3781 - accuracy: 0.8314 - val_loss: 0.3508 - val_accuracy: 0.8478\n",
            "Epoch 134/150\n",
            "1599/1599 [==============================] - 4s 3ms/step - loss: 0.3800 - accuracy: 0.8306 - val_loss: 0.3579 - val_accuracy: 0.8475\n",
            "Epoch 135/150\n",
            "1599/1599 [==============================] - 4s 2ms/step - loss: 0.3804 - accuracy: 0.8315 - val_loss: 0.3569 - val_accuracy: 0.8487\n",
            "Epoch 136/150\n",
            "1599/1599 [==============================] - 4s 2ms/step - loss: 0.3807 - accuracy: 0.8308 - val_loss: 0.3673 - val_accuracy: 0.8339\n",
            "Epoch 137/150\n",
            "1599/1599 [==============================] - 4s 3ms/step - loss: 0.3783 - accuracy: 0.8321 - val_loss: 0.3616 - val_accuracy: 0.8466\n",
            "Epoch 138/150\n",
            "1599/1599 [==============================] - 4s 2ms/step - loss: 0.3783 - accuracy: 0.8333 - val_loss: 0.3484 - val_accuracy: 0.8486\n",
            "Epoch 139/150\n",
            "1599/1599 [==============================] - 4s 3ms/step - loss: 0.3791 - accuracy: 0.8301 - val_loss: 0.3502 - val_accuracy: 0.8488\n",
            "Epoch 140/150\n",
            "1599/1599 [==============================] - 4s 3ms/step - loss: 0.3786 - accuracy: 0.8321 - val_loss: 0.3489 - val_accuracy: 0.8498\n",
            "Epoch 141/150\n",
            "1599/1599 [==============================] - 4s 3ms/step - loss: 0.3796 - accuracy: 0.8311 - val_loss: 0.3558 - val_accuracy: 0.8430\n",
            "Epoch 142/150\n",
            "1599/1599 [==============================] - 4s 2ms/step - loss: 0.3796 - accuracy: 0.8316 - val_loss: 0.3558 - val_accuracy: 0.8460\n",
            "Epoch 143/150\n",
            "1599/1599 [==============================] - 4s 2ms/step - loss: 0.3775 - accuracy: 0.8324 - val_loss: 0.3496 - val_accuracy: 0.8481\n",
            "Epoch 144/150\n",
            "1599/1599 [==============================] - 4s 3ms/step - loss: 0.3799 - accuracy: 0.8305 - val_loss: 0.3505 - val_accuracy: 0.8466\n",
            "Epoch 145/150\n",
            "1599/1599 [==============================] - 4s 2ms/step - loss: 0.3806 - accuracy: 0.8311 - val_loss: 0.3553 - val_accuracy: 0.8441\n",
            "Epoch 146/150\n",
            "1599/1599 [==============================] - 4s 2ms/step - loss: 0.3785 - accuracy: 0.8315 - val_loss: 0.3526 - val_accuracy: 0.8485\n",
            "Epoch 147/150\n",
            "1599/1599 [==============================] - 4s 2ms/step - loss: 0.3798 - accuracy: 0.8314 - val_loss: 0.3516 - val_accuracy: 0.8485\n",
            "Epoch 148/150\n",
            "1599/1599 [==============================] - 4s 2ms/step - loss: 0.3790 - accuracy: 0.8307 - val_loss: 0.3495 - val_accuracy: 0.8495\n",
            "Epoch 149/150\n",
            "1599/1599 [==============================] - 4s 2ms/step - loss: 0.3790 - accuracy: 0.8330 - val_loss: 0.3532 - val_accuracy: 0.8459\n",
            "Epoch 150/150\n",
            "1599/1599 [==============================] - 4s 3ms/step - loss: 0.3802 - accuracy: 0.8303 - val_loss: 0.3514 - val_accuracy: 0.8480\n"
          ]
        }
      ]
    },
    {
      "cell_type": "code",
      "source": [
        "plt.plot(history.history['accuracy'])\n",
        "plt.plot(history .history['val_accuracy'])\n",
        "plt.title('model accuracy')\n",
        "plt.ylabel('accuracy')\n",
        "plt.xlabel('epoch')\n",
        "plt.legend(['train', 'test'], loc = 'upper left' )\n",
        "plt.show()"
      ],
      "metadata": {
        "colab": {
          "base_uri": "https://localhost:8080/",
          "height": 295
        },
        "id": "yh9nDWqIXfdg",
        "outputId": "be2cac4a-bcff-4e5c-ca4c-3969dd80fcff"
      },
      "execution_count": null,
      "outputs": [
        {
          "output_type": "display_data",
          "data": {
            "image/png": "[encoded data removed]",
            "text/plain": [
              "<Figure size 432x288 with 1 Axes>"
            ]
          },
          "metadata": {
            "needs_background": "light"
          }
        }
      ]
    },
    {
      "cell_type": "code",
      "source": [
        "mycallbacks = [EarlyStopping(monitor = 'val_loss', patience = 5)]"
      ],
      "metadata": {
        "id": "saRvxfe4kbOn"
      },
      "execution_count": null,
      "outputs": []
    },
    {
      "cell_type": "code",
      "source": [
        "history = model1.fit(\n",
        "  X_train, #inputs\n",
        "  y_train, #target vector\n",
        "  epochs=150, # number of epochs\n",
        "  batch_size=32,\n",
        "  callbacks = mycallbacks, # early stopping\n",
        "  validation_data=(X_test, y_test))"
      ],
      "metadata": {
        "colab": {
          "base_uri": "https://localhost:8080/"
        },
        "id": "FMbmp6psksrF",
        "outputId": "11f827f9-5004-4e3a-9a39-17d0d356ec13"
      },
      "execution_count": null,
      "outputs": [
        {
          "output_type": "stream",
          "name": "stdout",
          "text": [
            "Epoch 1/150\n",
            "1599/1599 [==============================] - 4s 2ms/step - loss: 0.3770 - accuracy: 0.8321 - val_loss: 0.3504 - val_accuracy: 0.8491\n",
            "Epoch 2/150\n",
            "1599/1599 [==============================] - 4s 2ms/step - loss: 0.3788 - accuracy: 0.8326 - val_loss: 0.3519 - val_accuracy: 0.8440\n",
            "Epoch 3/150\n",
            "1599/1599 [==============================] - 4s 2ms/step - loss: 0.3789 - accuracy: 0.8325 - val_loss: 0.3490 - val_accuracy: 0.8479\n",
            "Epoch 4/150\n",
            "1599/1599 [==============================] - 4s 2ms/step - loss: 0.3786 - accuracy: 0.8319 - val_loss: 0.3505 - val_accuracy: 0.8472\n",
            "Epoch 5/150\n",
            "1599/1599 [==============================] - 4s 2ms/step - loss: 0.3774 - accuracy: 0.8326 - val_loss: 0.3532 - val_accuracy: 0.8483\n",
            "Epoch 6/150\n",
            "1599/1599 [==============================] - 4s 2ms/step - loss: 0.3776 - accuracy: 0.8312 - val_loss: 0.3492 - val_accuracy: 0.8489\n",
            "Epoch 7/150\n",
            "1599/1599 [==============================] - 4s 3ms/step - loss: 0.3779 - accuracy: 0.8321 - val_loss: 0.3477 - val_accuracy: 0.8481\n",
            "Epoch 8/150\n",
            "1599/1599 [==============================] - 4s 3ms/step - loss: 0.3777 - accuracy: 0.8323 - val_loss: 0.3527 - val_accuracy: 0.8432\n",
            "Epoch 9/150\n",
            "1599/1599 [==============================] - 3s 2ms/step - loss: 0.3786 - accuracy: 0.8320 - val_loss: 0.3650 - val_accuracy: 0.8336\n",
            "Epoch 10/150\n",
            "1599/1599 [==============================] - 4s 3ms/step - loss: 0.3789 - accuracy: 0.8313 - val_loss: 0.3590 - val_accuracy: 0.8461\n",
            "Epoch 11/150\n",
            "1599/1599 [==============================] - 4s 3ms/step - loss: 0.3784 - accuracy: 0.8321 - val_loss: 0.3574 - val_accuracy: 0.8474\n",
            "Epoch 12/150\n",
            "1599/1599 [==============================] - 4s 3ms/step - loss: 0.3769 - accuracy: 0.8330 - val_loss: 0.3481 - val_accuracy: 0.8482\n"
          ]
        }
      ]
    },
    {
      "cell_type": "code",
      "source": [
        "plt.plot(history.history['accuracy'])\n",
        "plt.plot(history.history['val_accuracy'])\n",
        "plt.title('model accuracy')\n",
        "plt.ylabel('accuracy')\n",
        "plt.xlabel('epoch')\n",
        "plt.legend(['train', 'test'], loc='upper left')\n",
        "plt.show()"
      ],
      "metadata": {
        "colab": {
          "base_uri": "https://localhost:8080/",
          "height": 295
        },
        "id": "Ba8ymVlOk1Xa",
        "outputId": "000a7eed-4166-40fa-ee9f-146a490cd573"
      },
      "execution_count": null,
      "outputs": [
        {
          "output_type": "display_data",
          "data": {
            "image/png": "[encoded data removed]",
            "text/plain": [
              "<Figure size 432x288 with 1 Axes>"
            ]
          },
          "metadata": {
            "needs_background": "light"
          }
        }
      ]
    },
    {
      "cell_type": "markdown",
      "source": [
        "***Logistic Regression***\n",
        "\n",
        "\n",
        "\n",
        "\n"
      ],
      "metadata": {
        "id": "ZwtZvrJvsz0y"
      }
    },
    {
      "cell_type": "markdown",
      "source": [
        "Le solver 'lbfgs' est le solver par defaut de la regression logistique, nous avons trouver une valeur d'accuracy égale à 82%.\n"
      ],
      "metadata": {
        "id": "pnknI7rAKEad"
      }
    },
    {
      "cell_type": "code",
      "source": [
        "LogModel = LogisticRegression(solver='lbfgs', random_state = 100)###\n",
        "LogModel = LogModel.fit(X_train, y_train)"
      ],
      "metadata": {
        "id": "sPAkqVi4wA1Y",
        "colab": {
          "base_uri": "https://localhost:8080/"
        },
        "outputId": "e7cc1edd-db95-4e30-8d82-bc7396dfa511"
      },
      "execution_count": null,
      "outputs": [
        {
          "output_type": "stream",
          "name": "stderr",
          "text": [
            "/usr/local/lib/python3.7/dist-packages/sklearn/linear_model/_logistic.py:818: ConvergenceWarning: lbfgs failed to converge (status=1):\n",
            "STOP: TOTAL NO. of ITERATIONS REACHED LIMIT.\n",
            "\n",
            "Increase the number of iterations (max_iter) or scale the data as shown in:\n",
            "    https://scikit-learn.org/stable/modules/preprocessing.html\n",
            "Please also refer to the documentation for alternative solver options:\n",
            "    https://scikit-learn.org/stable/modules/linear_model.html#logistic-regression\n",
            "  extra_warning_msg=_LOGISTIC_SOLVER_CONVERGENCE_MSG,\n"
          ]
        }
      ]
    },
    {
      "cell_type": "code",
      "source": [
        "print(\"LOGISTIC REGRESSION MODEL\")\n",
        "report(LogModel )"
      ],
      "metadata": {
        "id": "mPdLgU1s3VJW",
        "colab": {
          "base_uri": "https://localhost:8080/",
          "height": 1000
        },
        "outputId": "7eed008c-109b-492a-c3bd-5e2edb1599de"
      },
      "execution_count": null,
      "outputs": [
        {
          "output_type": "stream",
          "name": "stdout",
          "text": [
            "LOGISTIC REGRESSION MODEL\n",
            "              precision    recall  f1-score   support\n",
            "\n",
            "           0       0.85      0.80      0.82     11624\n",
            "           1       0.79      0.84      0.81     10305\n",
            "\n",
            "    accuracy                           0.82     21929\n",
            "   macro avg       0.82      0.82      0.82     21929\n",
            "weighted avg       0.82      0.82      0.82     21929\n",
            "\n"
          ]
        },
        {
          "output_type": "stream",
          "name": "stderr",
          "text": [
            "/usr/local/lib/python3.7/dist-packages/sklearn/utils/deprecation.py:87: FutureWarning: Function plot_confusion_matrix is deprecated; Function `plot_confusion_matrix` is deprecated in 1.0 and will be removed in 1.2. Use one of the class methods: ConfusionMatrixDisplay.from_predictions or ConfusionMatrixDisplay.from_estimator.\n",
            "  warnings.warn(msg, category=FutureWarning)\n",
            "/usr/local/lib/python3.7/dist-packages/sklearn/utils/deprecation.py:87: FutureWarning: Function plot_precision_recall_curve is deprecated; Function `plot_precision_recall_curve` is deprecated in 1.0 and will be removed in 1.2. Use one of the class methods: PrecisionRecallDisplay.from_predictions or PrecisionRecallDisplay.from_estimator.\n",
            "  warnings.warn(msg, category=FutureWarning)\n",
            "/usr/local/lib/python3.7/dist-packages/sklearn/utils/deprecation.py:87: FutureWarning: Function plot_roc_curve is deprecated; Function `plot_roc_curve` is deprecated in 1.0 and will be removed in 1.2. Use one of the class methods: RocCurveDisplay.from_predictions or RocCurveDisplay.from_estimator.\n",
            "  warnings.warn(msg, category=FutureWarning)\n"
          ]
        },
        {
          "output_type": "display_data",
          "data": {
            "image/png": "[encoded data removed]",
            "text/plain": [
              "<Figure size 432x288 with 2 Axes>"
            ]
          },
          "metadata": {
            "needs_background": "light"
          }
        },
        {
          "output_type": "display_data",
          "data": {
            "image/png": "[encoded data removed]",
            "text/plain": [
              "<Figure size 432x288 with 1 Axes>"
            ]
          },
          "metadata": {
            "needs_background": "light"
          }
        },
        {
          "output_type": "display_data",
          "data": {
            "image/png": "[encoded data removed]",
            "text/plain": [
              "<Figure size 432x288 with 1 Axes>"
            ]
          },
          "metadata": {
            "needs_background": "light"
          }
        }
      ]
    },
    {
      "cell_type": "code",
      "source": [
        "LogModel = LogisticRegression(solver='liblinear', random_state = 100)###\n",
        "LogModel = LogModel.fit(X_train, y_train)"
      ],
      "metadata": {
        "id": "XPS2VonQJC_W"
      },
      "execution_count": null,
      "outputs": []
    },
    {
      "cell_type": "code",
      "source": [
        "print(\"LOGISTIC REGRESSION MODEL\")\n",
        "report(LogModel )"
      ],
      "metadata": {
        "colab": {
          "base_uri": "https://localhost:8080/",
          "height": 1000
        },
        "id": "4OuWXpraJWSa",
        "outputId": "b58ef4b0-7202-46fc-8081-93bffa6bfc1a"
      },
      "execution_count": null,
      "outputs": [
        {
          "output_type": "stream",
          "name": "stdout",
          "text": [
            "LOGISTIC REGRESSION MODEL\n",
            "              precision    recall  f1-score   support\n",
            "\n",
            "           0       0.87      0.83      0.85     11441\n",
            "           1       0.82      0.87      0.84     10488\n",
            "\n",
            "    accuracy                           0.85     21929\n",
            "   macro avg       0.85      0.85      0.85     21929\n",
            "weighted avg       0.85      0.85      0.85     21929\n",
            "\n"
          ]
        },
        {
          "output_type": "stream",
          "name": "stderr",
          "text": [
            "/usr/local/lib/python3.7/dist-packages/sklearn/utils/deprecation.py:87: FutureWarning: Function plot_confusion_matrix is deprecated; Function `plot_confusion_matrix` is deprecated in 1.0 and will be removed in 1.2. Use one of the class methods: ConfusionMatrixDisplay.from_predictions or ConfusionMatrixDisplay.from_estimator.\n",
            "  warnings.warn(msg, category=FutureWarning)\n",
            "/usr/local/lib/python3.7/dist-packages/sklearn/utils/deprecation.py:87: FutureWarning: Function plot_precision_recall_curve is deprecated; Function `plot_precision_recall_curve` is deprecated in 1.0 and will be removed in 1.2. Use one of the class methods: PrecisionRecallDisplay.from_predictions or PrecisionRecallDisplay.from_estimator.\n",
            "  warnings.warn(msg, category=FutureWarning)\n",
            "/usr/local/lib/python3.7/dist-packages/sklearn/utils/deprecation.py:87: FutureWarning: Function plot_roc_curve is deprecated; Function `plot_roc_curve` is deprecated in 1.0 and will be removed in 1.2. Use one of the class methods: RocCurveDisplay.from_predictions or RocCurveDisplay.from_estimator.\n",
            "  warnings.warn(msg, category=FutureWarning)\n"
          ]
        },
        {
          "output_type": "display_data",
          "data": {
            "image/png": "[encoded data removed]",
            "text/plain": [
              "<Figure size 432x288 with 2 Axes>"
            ]
          },
          "metadata": {
            "needs_background": "light"
          }
        },
        {
          "output_type": "display_data",
          "data": {
            "image/png": "[encoded data removed]",
            "text/plain": [
              "<Figure size 432x288 with 1 Axes>"
            ]
          },
          "metadata": {
            "needs_background": "light"
          }
        },
        {
          "output_type": "display_data",
          "data": {
            "image/png": "[encoded data removed]",
            "text/plain": [
              "<Figure size 432x288 with 1 Axes>"
            ]
          },
          "metadata": {
            "needs_background": "light"
          }
        }
      ]
    },
    {
      "cell_type": "markdown",
      "source": [
        "***Random Forest***"
      ],
      "metadata": {
        "id": "PTfAoz4D_USK"
      }
    },
    {
      "cell_type": "code",
      "source": [
        "rfc_model=RandomForestClassifier()\n",
        "rfc_model.fit(X_train,y_train)"
      ],
      "metadata": {
        "colab": {
          "base_uri": "https://localhost:8080/"
        },
        "id": "NTaF8is3_R_I",
        "outputId": "ebd25fe0-5084-418b-9352-ba26918d9447"
      },
      "execution_count": null,
      "outputs": [
        {
          "output_type": "execute_result",
          "data": {
            "text/plain": [
              "RandomForestClassifier()"
            ]
          },
          "metadata": {},
          "execution_count": 34
        }
      ]
    },
    {
      "cell_type": "code",
      "source": [
        "print(\"RANDOM FOREST MODEL\")\n",
        "report(rfc_model)"
      ],
      "metadata": {
        "colab": {
          "base_uri": "https://localhost:8080/",
          "height": 1000
        },
        "id": "wBzx6sKf-c-H",
        "outputId": "527e6e45-2a0f-46ed-d997-d7be07045f24"
      },
      "execution_count": null,
      "outputs": [
        {
          "output_type": "stream",
          "name": "stdout",
          "text": [
            "RANDOM FOREST MODEL\n",
            "              precision    recall  f1-score   support\n",
            "\n",
            "           0       0.92      0.95      0.94     10562\n",
            "           1       0.95      0.93      0.94     11367\n",
            "\n",
            "    accuracy                           0.94     21929\n",
            "   macro avg       0.94      0.94      0.94     21929\n",
            "weighted avg       0.94      0.94      0.94     21929\n",
            "\n"
          ]
        },
        {
          "output_type": "stream",
          "name": "stderr",
          "text": [
            "/usr/local/lib/python3.7/dist-packages/sklearn/utils/deprecation.py:87: FutureWarning: Function plot_confusion_matrix is deprecated; Function `plot_confusion_matrix` is deprecated in 1.0 and will be removed in 1.2. Use one of the class methods: ConfusionMatrixDisplay.from_predictions or ConfusionMatrixDisplay.from_estimator.\n",
            "  warnings.warn(msg, category=FutureWarning)\n",
            "/usr/local/lib/python3.7/dist-packages/sklearn/utils/deprecation.py:87: FutureWarning: Function plot_precision_recall_curve is deprecated; Function `plot_precision_recall_curve` is deprecated in 1.0 and will be removed in 1.2. Use one of the class methods: PrecisionRecallDisplay.from_predictions or PrecisionRecallDisplay.from_estimator.\n",
            "  warnings.warn(msg, category=FutureWarning)\n",
            "/usr/local/lib/python3.7/dist-packages/sklearn/utils/deprecation.py:87: FutureWarning: Function plot_roc_curve is deprecated; Function `plot_roc_curve` is deprecated in 1.0 and will be removed in 1.2. Use one of the class methods: RocCurveDisplay.from_predictions or RocCurveDisplay.from_estimator.\n",
            "  warnings.warn(msg, category=FutureWarning)\n"
          ]
        },
        {
          "output_type": "display_data",
          "data": {
            "image/png": "[encoded data removed]",
            "text/plain": [
              "<Figure size 432x288 with 2 Axes>"
            ]
          },
          "metadata": {
            "needs_background": "light"
          }
        },
        {
          "output_type": "display_data",
          "data": {
            "image/png": "[encoded data removed]",
            "text/plain": [
              "<Figure size 432x288 with 1 Axes>"
            ]
          },
          "metadata": {
            "needs_background": "light"
          }
        },
        {
          "output_type": "display_data",
          "data": {
            "image/png": "[encoded data removed]",
            "text/plain": [
              "<Figure size 432x288 with 1 Axes>"
            ]
          },
          "metadata": {
            "needs_background": "light"
          }
        }
      ]
    },
    {
      "cell_type": "markdown",
      "source": [
        "**Support Vector Machine**"
      ],
      "metadata": {
        "id": "4WP0NqNd_yzX"
      }
    },
    {
      "cell_type": "code",
      "source": [
        "svc_model = SVC()\n",
        "svc_model.fit(X_train, y_train)"
      ],
      "metadata": {
        "colab": {
          "base_uri": "https://localhost:8080/"
        },
        "id": "6vDV_t9SAGev",
        "outputId": "30abdc53-5de8-4064-af44-7424a611d224"
      },
      "execution_count": null,
      "outputs": [
        {
          "output_type": "execute_result",
          "data": {
            "text/plain": [
              "SVC()"
            ]
          },
          "metadata": {},
          "execution_count": 36
        }
      ]
    },
    {
      "cell_type": "code",
      "source": [
        "print(\"SVM MODEL\")\n",
        "report(svc_model)"
      ],
      "metadata": {
        "colab": {
          "base_uri": "https://localhost:8080/",
          "height": 1000
        },
        "id": "gDGg51FgAyzB",
        "outputId": "df8fb493-acfd-4a4b-973f-6a666381d439"
      },
      "execution_count": null,
      "outputs": [
        {
          "output_type": "stream",
          "name": "stdout",
          "text": [
            "SVM MODEL\n",
            "              precision    recall  f1-score   support\n",
            "\n",
            "           0       0.86      0.74      0.79     12584\n",
            "           1       0.70      0.83      0.76      9345\n",
            "\n",
            "    accuracy                           0.78     21929\n",
            "   macro avg       0.78      0.79      0.78     21929\n",
            "weighted avg       0.79      0.78      0.78     21929\n",
            "\n"
          ]
        },
        {
          "output_type": "stream",
          "name": "stderr",
          "text": [
            "/usr/local/lib/python3.7/dist-packages/sklearn/utils/deprecation.py:87: FutureWarning: Function plot_confusion_matrix is deprecated; Function `plot_confusion_matrix` is deprecated in 1.0 and will be removed in 1.2. Use one of the class methods: ConfusionMatrixDisplay.from_predictions or ConfusionMatrixDisplay.from_estimator.\n",
            "  warnings.warn(msg, category=FutureWarning)\n",
            "/usr/local/lib/python3.7/dist-packages/sklearn/utils/deprecation.py:87: FutureWarning: Function plot_precision_recall_curve is deprecated; Function `plot_precision_recall_curve` is deprecated in 1.0 and will be removed in 1.2. Use one of the class methods: PrecisionRecallDisplay.from_predictions or PrecisionRecallDisplay.from_estimator.\n",
            "  warnings.warn(msg, category=FutureWarning)\n",
            "/usr/local/lib/python3.7/dist-packages/sklearn/utils/deprecation.py:87: FutureWarning: Function plot_roc_curve is deprecated; Function `plot_roc_curve` is deprecated in 1.0 and will be removed in 1.2. Use one of the class methods: RocCurveDisplay.from_predictions or RocCurveDisplay.from_estimator.\n",
            "  warnings.warn(msg, category=FutureWarning)\n"
          ]
        },
        {
          "output_type": "display_data",
          "data": {
            "image/png": "[encoded data removed]",
            "text/plain": [
              "<Figure size 432x288 with 2 Axes>"
            ]
          },
          "metadata": {
            "needs_background": "light"
          }
        },
        {
          "output_type": "display_data",
          "data": {
            "image/png": "[encoded data removed]",
            "text/plain": [
              "<Figure size 432x288 with 1 Axes>"
            ]
          },
          "metadata": {
            "needs_background": "light"
          }
        },
        {
          "output_type": "display_data",
          "data": {
            "image/png": "[encoded data removed]",
            "text/plain": [
              "<Figure size 432x288 with 1 Axes>"
            ]
          },
          "metadata": {
            "needs_background": "light"
          }
        }
      ]
    },
    {
      "cell_type": "code",
      "source": [
        "from sklearn.tree import DecisionTreeClassifier\n",
        "\n",
        "dtree = DecisionTreeClassifier()\n",
        "dtree.fit(X_train, y_train)\n",
        "dtree_score = dtree.score(X_test, y_test)\n",
        "print(\"Decision Tree Model accuracy \"+str(round(dtree_score*100, 1))+\"%\")"
      ],
      "metadata": {
        "colab": {
          "base_uri": "https://localhost:8080/"
        },
        "id": "bSuHvZdzH59D",
        "outputId": "51ee205f-7c0f-47cd-e9db-7fef6bad50a8"
      },
      "execution_count": null,
      "outputs": [
        {
          "output_type": "stream",
          "name": "stdout",
          "text": [
            "Decision Tree Model accuracy 90.3%\n"
          ]
        }
      ]
    }
  ]
}